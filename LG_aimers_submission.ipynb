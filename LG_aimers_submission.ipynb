{
  "nbformat": 4,
  "nbformat_minor": 0,
  "metadata": {
    "colab": {
      "provenance": [],
      "gpuType": "T4"
    },
    "kernelspec": {
      "name": "python3",
      "display_name": "Python 3"
    },
    "language_info": {
      "name": "python"
    },
    "accelerator": "GPU"
  },
  "cells": [
    {
      "cell_type": "code",
      "source": [
        "from google.colab import drive\n",
        "drive.mount('/content/drive')"
      ],
      "metadata": {
        "colab": {
          "base_uri": "https://localhost:8080/"
        },
        "id": "mBJbuWBG1_C5",
        "outputId": "d5ab9dad-76a7-4c7b-a7b8-4be6fa72e6ef"
      },
      "execution_count": null,
      "outputs": [
        {
          "output_type": "stream",
          "name": "stdout",
          "text": [
            "Drive already mounted at /content/drive; to attempt to forcibly remount, call drive.mount(\"/content/drive\", force_remount=True).\n"
          ]
        }
      ]
    },
    {
      "cell_type": "code",
      "source": [
        "import shutil\n",
        "\n",
        "source_folder = '/content/drive/MyDrive/LGAimers/data'\n",
        "destination_folder = '/content/data'\n",
        "\n",
        "try:\n",
        "    shutil.copytree(source_folder, destination_folder)\n",
        "except FileExistsError:\n",
        "    print(f\"폴더 '{destination_folder}'가 이미 존재\")"
      ],
      "metadata": {
        "colab": {
          "base_uri": "https://localhost:8080/"
        },
        "id": "g45e18Qf2NMK",
        "outputId": "8ace9f43-c35f-4391-ecf9-67d0a60522fa"
      },
      "execution_count": null,
      "outputs": [
        {
          "output_type": "stream",
          "name": "stdout",
          "text": [
            "폴더 '/content/data'가 이미 존재\n"
          ]
        }
      ]
    },
    {
      "cell_type": "code",
      "execution_count": null,
      "metadata": {
        "id": "NrAs4NeRYB1e",
        "colab": {
          "base_uri": "https://localhost:8080/"
        },
        "outputId": "8ea79290-9119-4126-ff9c-8be307be1eb9"
      },
      "outputs": [
        {
          "output_type": "stream",
          "name": "stdout",
          "text": [
            "Requirement already satisfied: catboost in /usr/local/lib/python3.11/dist-packages (1.2.8)\n",
            "Requirement already satisfied: graphviz in /usr/local/lib/python3.11/dist-packages (from catboost) (0.21)\n",
            "Requirement already satisfied: matplotlib in /usr/local/lib/python3.11/dist-packages (from catboost) (3.10.0)\n",
            "Requirement already satisfied: numpy<3.0,>=1.16.0 in /usr/local/lib/python3.11/dist-packages (from catboost) (2.0.2)\n",
            "Requirement already satisfied: pandas>=0.24 in /usr/local/lib/python3.11/dist-packages (from catboost) (2.2.2)\n",
            "Requirement already satisfied: scipy in /usr/local/lib/python3.11/dist-packages (from catboost) (1.16.1)\n",
            "Requirement already satisfied: plotly in /usr/local/lib/python3.11/dist-packages (from catboost) (5.24.1)\n",
            "Requirement already satisfied: six in /usr/local/lib/python3.11/dist-packages (from catboost) (1.17.0)\n",
            "Requirement already satisfied: python-dateutil>=2.8.2 in /usr/local/lib/python3.11/dist-packages (from pandas>=0.24->catboost) (2.9.0.post0)\n",
            "Requirement already satisfied: pytz>=2020.1 in /usr/local/lib/python3.11/dist-packages (from pandas>=0.24->catboost) (2025.2)\n",
            "Requirement already satisfied: tzdata>=2022.7 in /usr/local/lib/python3.11/dist-packages (from pandas>=0.24->catboost) (2025.2)\n",
            "Requirement already satisfied: contourpy>=1.0.1 in /usr/local/lib/python3.11/dist-packages (from matplotlib->catboost) (1.3.3)\n",
            "Requirement already satisfied: cycler>=0.10 in /usr/local/lib/python3.11/dist-packages (from matplotlib->catboost) (0.12.1)\n",
            "Requirement already satisfied: fonttools>=4.22.0 in /usr/local/lib/python3.11/dist-packages (from matplotlib->catboost) (4.59.0)\n",
            "Requirement already satisfied: kiwisolver>=1.3.1 in /usr/local/lib/python3.11/dist-packages (from matplotlib->catboost) (1.4.8)\n",
            "Requirement already satisfied: packaging>=20.0 in /usr/local/lib/python3.11/dist-packages (from matplotlib->catboost) (25.0)\n",
            "Requirement already satisfied: pillow>=8 in /usr/local/lib/python3.11/dist-packages (from matplotlib->catboost) (11.3.0)\n",
            "Requirement already satisfied: pyparsing>=2.3.1 in /usr/local/lib/python3.11/dist-packages (from matplotlib->catboost) (3.2.3)\n",
            "Requirement already satisfied: tenacity>=6.2.0 in /usr/local/lib/python3.11/dist-packages (from plotly->catboost) (8.5.0)\n",
            "Requirement already satisfied: holidays in /usr/local/lib/python3.11/dist-packages (0.78)\n",
            "Requirement already satisfied: python-dateutil in /usr/local/lib/python3.11/dist-packages (from holidays) (2.9.0.post0)\n",
            "Requirement already satisfied: six>=1.5 in /usr/local/lib/python3.11/dist-packages (from python-dateutil->holidays) (1.17.0)\n"
          ]
        }
      ],
      "source": [
        "!pip install catboost\n",
        "!pip install holidays"
      ]
    },
    {
      "cell_type": "code",
      "source": [
        "import os\n",
        "import random\n",
        "import glob\n",
        "import re\n",
        "\n",
        "import pandas as pd\n",
        "import numpy as np\n",
        "\n",
        "from sklearn.preprocessing import MinMaxScaler\n",
        "from sklearn.model_selection import train_test_split\n",
        "\n",
        "\n",
        "import torch\n",
        "import torch.nn as nn\n",
        "from tqdm import tqdm\n",
        "\n",
        "from catboost import CatBoostRegressor\n",
        "from sklearn.metrics import mean_squared_error\n",
        "\n",
        "import pandas as pd\n",
        "import holidays\n",
        "from tqdm import tqdm"
      ],
      "metadata": {
        "id": "lXi2W7FpbN4F"
      },
      "execution_count": null,
      "outputs": []
    },
    {
      "cell_type": "markdown",
      "source": [
        "Fixed RandomSeed & Setting Hyperparameter"
      ],
      "metadata": {
        "id": "nRt9aGgWbioV"
      }
    },
    {
      "cell_type": "code",
      "source": [
        "def set_seed(seed=42):\n",
        "    random.seed(seed)\n",
        "    np.random.seed(seed)\n",
        "    torch.manual_seed(seed)\n",
        "    os.environ['PYTHONHASHSEED'] = str(seed)\n",
        "\n",
        "    if torch.cuda.is_available():\n",
        "        torch.cuda.manual_seed(seed)\n",
        "        torch.cuda.manual_seed_all(seed)\n",
        "        torch.backends.cudnn.deterministic = True\n",
        "        torch.backends.cudnn.benchmark = False\n",
        "\n",
        "set_seed(42)"
      ],
      "metadata": {
        "id": "Vc6TPjwhbQpF"
      },
      "execution_count": null,
      "outputs": []
    },
    {
      "cell_type": "code",
      "source": [
        "LOOKBACK, PREDICT, BATCH_SIZE, EPOCHS = 28, 7, 16, 50\n",
        "DEVICE = torch.device('cuda' if torch.cuda.is_available() else 'cpu')"
      ],
      "metadata": {
        "id": "WI1OVVMbbmnk"
      },
      "execution_count": null,
      "outputs": []
    },
    {
      "cell_type": "markdown",
      "source": [
        "LOAD DATA"
      ],
      "metadata": {
        "id": "8pehMo_RcQfm"
      }
    },
    {
      "cell_type": "code",
      "source": [
        "train_data = pd.read_csv('/content/data/train.csv', encoding='utf-8-sig')\n",
        "print(train_data)"
      ],
      "metadata": {
        "colab": {
          "base_uri": "https://localhost:8080/"
        },
        "id": "JBaT9ORZbnSK",
        "outputId": "28e801fd-f7c1-4c8d-a01a-7336f9b119c9"
      },
      "execution_count": null,
      "outputs": [
        {
          "output_type": "stream",
          "name": "stdout",
          "text": [
            "              영업일자            영업장명_메뉴명  매출수량\n",
            "0       2023-01-01  느티나무 셀프BBQ_1인 수저세트     0\n",
            "1       2023-01-02  느티나무 셀프BBQ_1인 수저세트     0\n",
            "2       2023-01-03  느티나무 셀프BBQ_1인 수저세트     0\n",
            "3       2023-01-04  느티나무 셀프BBQ_1인 수저세트     0\n",
            "4       2023-01-05  느티나무 셀프BBQ_1인 수저세트     0\n",
            "...            ...                 ...   ...\n",
            "102671  2024-06-11        화담숲카페_현미뻥스크림    12\n",
            "102672  2024-06-12        화담숲카페_현미뻥스크림    10\n",
            "102673  2024-06-13        화담숲카페_현미뻥스크림    14\n",
            "102674  2024-06-14        화담숲카페_현미뻥스크림    12\n",
            "102675  2024-06-15        화담숲카페_현미뻥스크림    60\n",
            "\n",
            "[102676 rows x 3 columns]\n"
          ]
        }
      ]
    },
    {
      "cell_type": "markdown",
      "source": [
        "Data analysis"
      ],
      "metadata": {
        "id": "6Frc8ETtcy5u"
      }
    },
    {
      "cell_type": "code",
      "source": [
        "##sort by menu and chronological time\n",
        "train_data = train_data.sort_values(['영업장명_메뉴명', '영업일자'])\n",
        "train_data['영업일자'] = pd.to_datetime(train_data['영업일자'])\n",
        "train_data['요일'] = train_data['영업일자'].dt.day_name()\n",
        "train_data[['영업장명', '메뉴명']] = train_data['영업장명_메뉴명'].str.split('_', n=1, expand=True)\n",
        "\n",
        "print(train_data)"
      ],
      "metadata": {
        "colab": {
          "base_uri": "https://localhost:8080/"
        },
        "id": "kNvpUhw6cyZc",
        "outputId": "ff538f7b-05b8-4ee7-8b0d-c0cb6cf6fbe2"
      },
      "execution_count": null,
      "outputs": [
        {
          "output_type": "stream",
          "name": "stdout",
          "text": [
            "             영업일자            영업장명_메뉴명  매출수량         요일        영업장명      메뉴명\n",
            "0      2023-01-01  느티나무 셀프BBQ_1인 수저세트     0     Sunday  느티나무 셀프BBQ  1인 수저세트\n",
            "1      2023-01-02  느티나무 셀프BBQ_1인 수저세트     0     Monday  느티나무 셀프BBQ  1인 수저세트\n",
            "2      2023-01-03  느티나무 셀프BBQ_1인 수저세트     0    Tuesday  느티나무 셀프BBQ  1인 수저세트\n",
            "3      2023-01-04  느티나무 셀프BBQ_1인 수저세트     0  Wednesday  느티나무 셀프BBQ  1인 수저세트\n",
            "4      2023-01-05  느티나무 셀프BBQ_1인 수저세트     0   Thursday  느티나무 셀프BBQ  1인 수저세트\n",
            "...           ...                 ...   ...        ...         ...      ...\n",
            "102671 2024-06-11        화담숲카페_현미뻥스크림    12    Tuesday       화담숲카페   현미뻥스크림\n",
            "102672 2024-06-12        화담숲카페_현미뻥스크림    10  Wednesday       화담숲카페   현미뻥스크림\n",
            "102673 2024-06-13        화담숲카페_현미뻥스크림    14   Thursday       화담숲카페   현미뻥스크림\n",
            "102674 2024-06-14        화담숲카페_현미뻥스크림    12     Friday       화담숲카페   현미뻥스크림\n",
            "102675 2024-06-15        화담숲카페_현미뻥스크림    60   Saturday       화담숲카페   현미뻥스크림\n",
            "\n",
            "[102676 rows x 6 columns]\n"
          ]
        }
      ]
    },
    {
      "cell_type": "code",
      "source": [
        "def make_expanded_train(df, input_window_size=28, predict_window_size=7):\n",
        "    df = df.sort_values(['영업장명_메뉴명', '영업일자'])\n",
        "    df['영업일자'] = pd.to_datetime(df['영업일자'])\n",
        "    df['분기'] = df['영업일자'].dt.quarter\n",
        "\n",
        "    result = []\n",
        "\n",
        "    for name, group in df.groupby('영업장명_메뉴명'):\n",
        "        group = group.sort_values('영업일자')\n",
        "        sales = group['매출수량'].values\n",
        "        dates = group['영업일자'].values\n",
        "        store_name = group['영업장명'].iloc[0]\n",
        "        menu_name = group['메뉴명'].iloc[0]\n",
        "\n",
        "        for i in range(len(group) - input_window_size - predict_window_size + 1):\n",
        "            input_window = sales[i : i + input_window_size]\n",
        "            predict_window = sales[i + input_window_size : i + input_window_size + predict_window_size]\n",
        "            start_date = dates[i]\n",
        "\n",
        "            for j in range(predict_window_size):\n",
        "                predict_date = dates[i + input_window_size + j]\n",
        "\n",
        "                result.append({\n",
        "                    '영업장명_메뉴명': name,\n",
        "                    'store_name': store_name,\n",
        "                    'menu_name': menu_name,\n",
        "                    'start_date': start_date,\n",
        "                    **{f'X_{k}': input_window[k] for k in range(input_window_size)},\n",
        "                    'predict_date': predict_date,\n",
        "                    'predict_date_offset': j + 1,\n",
        "                    'target': predict_window[j]\n",
        "                })\n",
        "\n",
        "    df_result = pd.DataFrame(result)\n",
        "\n",
        "    df_result.insert(df_result.columns.get_loc('start_date') + 1, 'start_date_year', df_result['start_date'].dt.year)\n",
        "    df_result.insert(df_result.columns.get_loc('start_date') + 2, 'start_date_month', df_result['start_date'].dt.month)\n",
        "    df_result.insert(df_result.columns.get_loc('start_date') + 3, 'start_date_day', df_result['start_date'].dt.day)\n",
        "    df_result.insert(df_result.columns.get_loc('start_date') + 4, 'start_date_weekday', df_result['start_date'].dt.day_name())\n",
        "    df_result.insert(df_result.columns.get_loc('start_date') + 5, 'start_date_holiday',\n",
        "                     df_result['start_date'].dt.date.isin(holidays.KR(years=[2023, 2024, 2025])).astype(int))\n",
        "    df_result.insert(df_result.columns.get_loc('start_date') + 6, 'start_date_quarter', df_result['start_date'].dt.quarter)\n",
        "\n",
        "\n",
        "    df_result.insert(df_result.columns.get_loc('predict_date') + 1, 'predict_date_year', df_result['predict_date'].dt.year)\n",
        "    df_result.insert(df_result.columns.get_loc('predict_date') + 2, 'predict_date_month', df_result['predict_date'].dt.month)\n",
        "    df_result.insert(df_result.columns.get_loc('predict_date') + 3, 'predict_date_day', df_result['predict_date'].dt.day)\n",
        "    df_result.insert(df_result.columns.get_loc('predict_date') + 4, 'predict_date_weekday', df_result['predict_date'].dt.day_name())\n",
        "    df_result.insert(df_result.columns.get_loc('predict_date') + 5, 'predict_date_holiday',\n",
        "                     df_result['predict_date'].dt.date.isin(holidays.KR(years=[2023, 2024, 2025])).astype(int))\n",
        "    df_result.insert(df_result.columns.get_loc('predict_date') + 6, 'predict_date_quarter', df_result['predict_date'].dt.quarter)\n",
        "\n",
        "\n",
        "    return df_result"
      ],
      "metadata": {
        "id": "jpacf1yJdI7X"
      },
      "execution_count": null,
      "outputs": []
    },
    {
      "cell_type": "code",
      "source": [
        "df_train = make_expanded_train(train_data.copy(), input_window_size=28, predict_window_size=7)"
      ],
      "metadata": {
        "id": "g8FYgkSwhABw"
      },
      "execution_count": null,
      "outputs": []
    },
    {
      "cell_type": "code",
      "source": [
        "print(df_train.shape)\n",
        "df_train.head()"
      ],
      "metadata": {
        "colab": {
          "base_uri": "https://localhost:8080/",
          "height": 847
        },
        "id": "MI1fLHmYhCgQ",
        "outputId": "e53a756f-14ab-49ed-f21f-2179d488e7a2"
      },
      "execution_count": null,
      "outputs": [
        {
          "output_type": "stream",
          "name": "stdout",
          "text": [
            "(672798, 47)\n"
          ]
        },
        {
          "output_type": "execute_result",
          "data": {
            "text/plain": [
              "             영업장명_메뉴명  store_name menu_name start_date  start_date_year  \\\n",
              "0  느티나무 셀프BBQ_1인 수저세트  느티나무 셀프BBQ   1인 수저세트 2023-01-01             2023   \n",
              "1  느티나무 셀프BBQ_1인 수저세트  느티나무 셀프BBQ   1인 수저세트 2023-01-01             2023   \n",
              "2  느티나무 셀프BBQ_1인 수저세트  느티나무 셀프BBQ   1인 수저세트 2023-01-01             2023   \n",
              "3  느티나무 셀프BBQ_1인 수저세트  느티나무 셀프BBQ   1인 수저세트 2023-01-01             2023   \n",
              "4  느티나무 셀프BBQ_1인 수저세트  느티나무 셀프BBQ   1인 수저세트 2023-01-01             2023   \n",
              "\n",
              "   start_date_month  start_date_day start_date_weekday  start_date_holiday  \\\n",
              "0                 1               1             Sunday                   1   \n",
              "1                 1               1             Sunday                   1   \n",
              "2                 1               1             Sunday                   1   \n",
              "3                 1               1             Sunday                   1   \n",
              "4                 1               1             Sunday                   1   \n",
              "\n",
              "   start_date_quarter  ...  X_27  predict_date  predict_date_year  \\\n",
              "0                   1  ...     0    2023-01-29               2023   \n",
              "1                   1  ...     0    2023-01-30               2023   \n",
              "2                   1  ...     0    2023-01-31               2023   \n",
              "3                   1  ...     0    2023-02-01               2023   \n",
              "4                   1  ...     0    2023-02-02               2023   \n",
              "\n",
              "   predict_date_month  predict_date_day  predict_date_weekday  \\\n",
              "0                   1                29                Sunday   \n",
              "1                   1                30                Monday   \n",
              "2                   1                31               Tuesday   \n",
              "3                   2                 1             Wednesday   \n",
              "4                   2                 2              Thursday   \n",
              "\n",
              "   predict_date_holiday  predict_date_quarter  predict_date_offset  target  \n",
              "0                     0                     1                    1       8  \n",
              "1                     0                     1                    2       0  \n",
              "2                     0                     1                    3       4  \n",
              "3                     0                     1                    4       6  \n",
              "4                     0                     1                    5       2  \n",
              "\n",
              "[5 rows x 47 columns]"
            ],
            "text/html": [
              "\n",
              "  <div id=\"df-1f3d39b5-34f9-4ca3-8917-58caad502efa\" class=\"colab-df-container\">\n",
              "    <div>\n",
              "<style scoped>\n",
              "    .dataframe tbody tr th:only-of-type {\n",
              "        vertical-align: middle;\n",
              "    }\n",
              "\n",
              "    .dataframe tbody tr th {\n",
              "        vertical-align: top;\n",
              "    }\n",
              "\n",
              "    .dataframe thead th {\n",
              "        text-align: right;\n",
              "    }\n",
              "</style>\n",
              "<table border=\"1\" class=\"dataframe\">\n",
              "  <thead>\n",
              "    <tr style=\"text-align: right;\">\n",
              "      <th></th>\n",
              "      <th>영업장명_메뉴명</th>\n",
              "      <th>store_name</th>\n",
              "      <th>menu_name</th>\n",
              "      <th>start_date</th>\n",
              "      <th>start_date_year</th>\n",
              "      <th>start_date_month</th>\n",
              "      <th>start_date_day</th>\n",
              "      <th>start_date_weekday</th>\n",
              "      <th>start_date_holiday</th>\n",
              "      <th>start_date_quarter</th>\n",
              "      <th>...</th>\n",
              "      <th>X_27</th>\n",
              "      <th>predict_date</th>\n",
              "      <th>predict_date_year</th>\n",
              "      <th>predict_date_month</th>\n",
              "      <th>predict_date_day</th>\n",
              "      <th>predict_date_weekday</th>\n",
              "      <th>predict_date_holiday</th>\n",
              "      <th>predict_date_quarter</th>\n",
              "      <th>predict_date_offset</th>\n",
              "      <th>target</th>\n",
              "    </tr>\n",
              "  </thead>\n",
              "  <tbody>\n",
              "    <tr>\n",
              "      <th>0</th>\n",
              "      <td>느티나무 셀프BBQ_1인 수저세트</td>\n",
              "      <td>느티나무 셀프BBQ</td>\n",
              "      <td>1인 수저세트</td>\n",
              "      <td>2023-01-01</td>\n",
              "      <td>2023</td>\n",
              "      <td>1</td>\n",
              "      <td>1</td>\n",
              "      <td>Sunday</td>\n",
              "      <td>1</td>\n",
              "      <td>1</td>\n",
              "      <td>...</td>\n",
              "      <td>0</td>\n",
              "      <td>2023-01-29</td>\n",
              "      <td>2023</td>\n",
              "      <td>1</td>\n",
              "      <td>29</td>\n",
              "      <td>Sunday</td>\n",
              "      <td>0</td>\n",
              "      <td>1</td>\n",
              "      <td>1</td>\n",
              "      <td>8</td>\n",
              "    </tr>\n",
              "    <tr>\n",
              "      <th>1</th>\n",
              "      <td>느티나무 셀프BBQ_1인 수저세트</td>\n",
              "      <td>느티나무 셀프BBQ</td>\n",
              "      <td>1인 수저세트</td>\n",
              "      <td>2023-01-01</td>\n",
              "      <td>2023</td>\n",
              "      <td>1</td>\n",
              "      <td>1</td>\n",
              "      <td>Sunday</td>\n",
              "      <td>1</td>\n",
              "      <td>1</td>\n",
              "      <td>...</td>\n",
              "      <td>0</td>\n",
              "      <td>2023-01-30</td>\n",
              "      <td>2023</td>\n",
              "      <td>1</td>\n",
              "      <td>30</td>\n",
              "      <td>Monday</td>\n",
              "      <td>0</td>\n",
              "      <td>1</td>\n",
              "      <td>2</td>\n",
              "      <td>0</td>\n",
              "    </tr>\n",
              "    <tr>\n",
              "      <th>2</th>\n",
              "      <td>느티나무 셀프BBQ_1인 수저세트</td>\n",
              "      <td>느티나무 셀프BBQ</td>\n",
              "      <td>1인 수저세트</td>\n",
              "      <td>2023-01-01</td>\n",
              "      <td>2023</td>\n",
              "      <td>1</td>\n",
              "      <td>1</td>\n",
              "      <td>Sunday</td>\n",
              "      <td>1</td>\n",
              "      <td>1</td>\n",
              "      <td>...</td>\n",
              "      <td>0</td>\n",
              "      <td>2023-01-31</td>\n",
              "      <td>2023</td>\n",
              "      <td>1</td>\n",
              "      <td>31</td>\n",
              "      <td>Tuesday</td>\n",
              "      <td>0</td>\n",
              "      <td>1</td>\n",
              "      <td>3</td>\n",
              "      <td>4</td>\n",
              "    </tr>\n",
              "    <tr>\n",
              "      <th>3</th>\n",
              "      <td>느티나무 셀프BBQ_1인 수저세트</td>\n",
              "      <td>느티나무 셀프BBQ</td>\n",
              "      <td>1인 수저세트</td>\n",
              "      <td>2023-01-01</td>\n",
              "      <td>2023</td>\n",
              "      <td>1</td>\n",
              "      <td>1</td>\n",
              "      <td>Sunday</td>\n",
              "      <td>1</td>\n",
              "      <td>1</td>\n",
              "      <td>...</td>\n",
              "      <td>0</td>\n",
              "      <td>2023-02-01</td>\n",
              "      <td>2023</td>\n",
              "      <td>2</td>\n",
              "      <td>1</td>\n",
              "      <td>Wednesday</td>\n",
              "      <td>0</td>\n",
              "      <td>1</td>\n",
              "      <td>4</td>\n",
              "      <td>6</td>\n",
              "    </tr>\n",
              "    <tr>\n",
              "      <th>4</th>\n",
              "      <td>느티나무 셀프BBQ_1인 수저세트</td>\n",
              "      <td>느티나무 셀프BBQ</td>\n",
              "      <td>1인 수저세트</td>\n",
              "      <td>2023-01-01</td>\n",
              "      <td>2023</td>\n",
              "      <td>1</td>\n",
              "      <td>1</td>\n",
              "      <td>Sunday</td>\n",
              "      <td>1</td>\n",
              "      <td>1</td>\n",
              "      <td>...</td>\n",
              "      <td>0</td>\n",
              "      <td>2023-02-02</td>\n",
              "      <td>2023</td>\n",
              "      <td>2</td>\n",
              "      <td>2</td>\n",
              "      <td>Thursday</td>\n",
              "      <td>0</td>\n",
              "      <td>1</td>\n",
              "      <td>5</td>\n",
              "      <td>2</td>\n",
              "    </tr>\n",
              "  </tbody>\n",
              "</table>\n",
              "<p>5 rows × 47 columns</p>\n",
              "</div>\n",
              "    <div class=\"colab-df-buttons\">\n",
              "\n",
              "  <div class=\"colab-df-container\">\n",
              "    <button class=\"colab-df-convert\" onclick=\"convertToInteractive('df-1f3d39b5-34f9-4ca3-8917-58caad502efa')\"\n",
              "            title=\"Convert this dataframe to an interactive table.\"\n",
              "            style=\"display:none;\">\n",
              "\n",
              "  <svg xmlns=\"http://www.w3.org/2000/svg\" height=\"24px\" viewBox=\"0 -960 960 960\">\n",
              "    <path d=\"M120-120v-720h720v720H120Zm60-500h600v-160H180v160Zm220 220h160v-160H400v160Zm0 220h160v-160H400v160ZM180-400h160v-160H180v160Zm440 0h160v-160H620v160ZM180-180h160v-160H180v160Zm440 0h160v-160H620v160Z\"/>\n",
              "  </svg>\n",
              "    </button>\n",
              "\n",
              "  <style>\n",
              "    .colab-df-container {\n",
              "      display:flex;\n",
              "      gap: 12px;\n",
              "    }\n",
              "\n",
              "    .colab-df-convert {\n",
              "      background-color: #E8F0FE;\n",
              "      border: none;\n",
              "      border-radius: 50%;\n",
              "      cursor: pointer;\n",
              "      display: none;\n",
              "      fill: #1967D2;\n",
              "      height: 32px;\n",
              "      padding: 0 0 0 0;\n",
              "      width: 32px;\n",
              "    }\n",
              "\n",
              "    .colab-df-convert:hover {\n",
              "      background-color: #E2EBFA;\n",
              "      box-shadow: 0px 1px 2px rgba(60, 64, 67, 0.3), 0px 1px 3px 1px rgba(60, 64, 67, 0.15);\n",
              "      fill: #174EA6;\n",
              "    }\n",
              "\n",
              "    .colab-df-buttons div {\n",
              "      margin-bottom: 4px;\n",
              "    }\n",
              "\n",
              "    [theme=dark] .colab-df-convert {\n",
              "      background-color: #3B4455;\n",
              "      fill: #D2E3FC;\n",
              "    }\n",
              "\n",
              "    [theme=dark] .colab-df-convert:hover {\n",
              "      background-color: #434B5C;\n",
              "      box-shadow: 0px 1px 3px 1px rgba(0, 0, 0, 0.15);\n",
              "      filter: drop-shadow(0px 1px 2px rgba(0, 0, 0, 0.3));\n",
              "      fill: #FFFFFF;\n",
              "    }\n",
              "  </style>\n",
              "\n",
              "    <script>\n",
              "      const buttonEl =\n",
              "        document.querySelector('#df-1f3d39b5-34f9-4ca3-8917-58caad502efa button.colab-df-convert');\n",
              "      buttonEl.style.display =\n",
              "        google.colab.kernel.accessAllowed ? 'block' : 'none';\n",
              "\n",
              "      async function convertToInteractive(key) {\n",
              "        const element = document.querySelector('#df-1f3d39b5-34f9-4ca3-8917-58caad502efa');\n",
              "        const dataTable =\n",
              "          await google.colab.kernel.invokeFunction('convertToInteractive',\n",
              "                                                    [key], {});\n",
              "        if (!dataTable) return;\n",
              "\n",
              "        const docLinkHtml = 'Like what you see? Visit the ' +\n",
              "          '<a target=\"_blank\" href=https://colab.research.google.com/notebooks/data_table.ipynb>data table notebook</a>'\n",
              "          + ' to learn more about interactive tables.';\n",
              "        element.innerHTML = '';\n",
              "        dataTable['output_type'] = 'display_data';\n",
              "        await google.colab.output.renderOutput(dataTable, element);\n",
              "        const docLink = document.createElement('div');\n",
              "        docLink.innerHTML = docLinkHtml;\n",
              "        element.appendChild(docLink);\n",
              "      }\n",
              "    </script>\n",
              "  </div>\n",
              "\n",
              "\n",
              "    <div id=\"df-001f5d33-7414-4e73-9cab-87394e80060b\">\n",
              "      <button class=\"colab-df-quickchart\" onclick=\"quickchart('df-001f5d33-7414-4e73-9cab-87394e80060b')\"\n",
              "                title=\"Suggest charts\"\n",
              "                style=\"display:none;\">\n",
              "\n",
              "<svg xmlns=\"http://www.w3.org/2000/svg\" height=\"24px\"viewBox=\"0 0 24 24\"\n",
              "     width=\"24px\">\n",
              "    <g>\n",
              "        <path d=\"M19 3H5c-1.1 0-2 .9-2 2v14c0 1.1.9 2 2 2h14c1.1 0 2-.9 2-2V5c0-1.1-.9-2-2-2zM9 17H7v-7h2v7zm4 0h-2V7h2v10zm4 0h-2v-4h2v4z\"/>\n",
              "    </g>\n",
              "</svg>\n",
              "      </button>\n",
              "\n",
              "<style>\n",
              "  .colab-df-quickchart {\n",
              "      --bg-color: #E8F0FE;\n",
              "      --fill-color: #1967D2;\n",
              "      --hover-bg-color: #E2EBFA;\n",
              "      --hover-fill-color: #174EA6;\n",
              "      --disabled-fill-color: #AAA;\n",
              "      --disabled-bg-color: #DDD;\n",
              "  }\n",
              "\n",
              "  [theme=dark] .colab-df-quickchart {\n",
              "      --bg-color: #3B4455;\n",
              "      --fill-color: #D2E3FC;\n",
              "      --hover-bg-color: #434B5C;\n",
              "      --hover-fill-color: #FFFFFF;\n",
              "      --disabled-bg-color: #3B4455;\n",
              "      --disabled-fill-color: #666;\n",
              "  }\n",
              "\n",
              "  .colab-df-quickchart {\n",
              "    background-color: var(--bg-color);\n",
              "    border: none;\n",
              "    border-radius: 50%;\n",
              "    cursor: pointer;\n",
              "    display: none;\n",
              "    fill: var(--fill-color);\n",
              "    height: 32px;\n",
              "    padding: 0;\n",
              "    width: 32px;\n",
              "  }\n",
              "\n",
              "  .colab-df-quickchart:hover {\n",
              "    background-color: var(--hover-bg-color);\n",
              "    box-shadow: 0 1px 2px rgba(60, 64, 67, 0.3), 0 1px 3px 1px rgba(60, 64, 67, 0.15);\n",
              "    fill: var(--button-hover-fill-color);\n",
              "  }\n",
              "\n",
              "  .colab-df-quickchart-complete:disabled,\n",
              "  .colab-df-quickchart-complete:disabled:hover {\n",
              "    background-color: var(--disabled-bg-color);\n",
              "    fill: var(--disabled-fill-color);\n",
              "    box-shadow: none;\n",
              "  }\n",
              "\n",
              "  .colab-df-spinner {\n",
              "    border: 2px solid var(--fill-color);\n",
              "    border-color: transparent;\n",
              "    border-bottom-color: var(--fill-color);\n",
              "    animation:\n",
              "      spin 1s steps(1) infinite;\n",
              "  }\n",
              "\n",
              "  @keyframes spin {\n",
              "    0% {\n",
              "      border-color: transparent;\n",
              "      border-bottom-color: var(--fill-color);\n",
              "      border-left-color: var(--fill-color);\n",
              "    }\n",
              "    20% {\n",
              "      border-color: transparent;\n",
              "      border-left-color: var(--fill-color);\n",
              "      border-top-color: var(--fill-color);\n",
              "    }\n",
              "    30% {\n",
              "      border-color: transparent;\n",
              "      border-left-color: var(--fill-color);\n",
              "      border-top-color: var(--fill-color);\n",
              "      border-right-color: var(--fill-color);\n",
              "    }\n",
              "    40% {\n",
              "      border-color: transparent;\n",
              "      border-right-color: var(--fill-color);\n",
              "      border-top-color: var(--fill-color);\n",
              "    }\n",
              "    60% {\n",
              "      border-color: transparent;\n",
              "      border-right-color: var(--fill-color);\n",
              "    }\n",
              "    80% {\n",
              "      border-color: transparent;\n",
              "      border-right-color: var(--fill-color);\n",
              "      border-bottom-color: var(--fill-color);\n",
              "    }\n",
              "    90% {\n",
              "      border-color: transparent;\n",
              "      border-bottom-color: var(--fill-color);\n",
              "    }\n",
              "  }\n",
              "</style>\n",
              "\n",
              "      <script>\n",
              "        async function quickchart(key) {\n",
              "          const quickchartButtonEl =\n",
              "            document.querySelector('#' + key + ' button');\n",
              "          quickchartButtonEl.disabled = true;  // To prevent multiple clicks.\n",
              "          quickchartButtonEl.classList.add('colab-df-spinner');\n",
              "          try {\n",
              "            const charts = await google.colab.kernel.invokeFunction(\n",
              "                'suggestCharts', [key], {});\n",
              "          } catch (error) {\n",
              "            console.error('Error during call to suggestCharts:', error);\n",
              "          }\n",
              "          quickchartButtonEl.classList.remove('colab-df-spinner');\n",
              "          quickchartButtonEl.classList.add('colab-df-quickchart-complete');\n",
              "        }\n",
              "        (() => {\n",
              "          let quickchartButtonEl =\n",
              "            document.querySelector('#df-001f5d33-7414-4e73-9cab-87394e80060b button');\n",
              "          quickchartButtonEl.style.display =\n",
              "            google.colab.kernel.accessAllowed ? 'block' : 'none';\n",
              "        })();\n",
              "      </script>\n",
              "    </div>\n",
              "\n",
              "    </div>\n",
              "  </div>\n"
            ],
            "application/vnd.google.colaboratory.intrinsic+json": {
              "type": "dataframe",
              "variable_name": "df_train"
            }
          },
          "metadata": {},
          "execution_count": 38
        }
      ]
    },
    {
      "cell_type": "markdown",
      "source": [
        "Model Train"
      ],
      "metadata": {
        "id": "ct8CQaPmoI3r"
      }
    },
    {
      "cell_type": "code",
      "source": [
        "num_features = [col for col in df_train.columns if col.startswith(\"X_\")] + ['predict_date_offset']\n",
        "del_features = [\"영업일자_메뉴명\", \"start_date\", \"start_date_year\", \"predict_date\", \"predict_date_year\"]\n",
        "cat_features = [col for col in df_train.columns if col not in num_features and col not in del_features and col != 'target']\n"
      ],
      "metadata": {
        "id": "JXA7AqoNiArb"
      },
      "execution_count": 71,
      "outputs": []
    },
    {
      "cell_type": "code",
      "source": [
        "features = num_features + cat_features\n",
        "\n",
        "x_train, x_val, y_train, y_val = train_test_split(\n",
        "    df_train[features],\n",
        "    df_train[\"target\"],\n",
        "    test_size=0.2,\n",
        "    shuffle=True,\n",
        ")"
      ],
      "metadata": {
        "id": "F_ag9QDgoEUg"
      },
      "execution_count": 72,
      "outputs": []
    },
    {
      "cell_type": "code",
      "source": [
        "model = CatBoostRegressor()\n",
        "\n",
        "model.fit(\n",
        "    x_train, y_train,\n",
        "    eval_set=(x_val, y_val),\n",
        "    cat_features=cat_features,\n",
        "    use_best_model=True\n",
        ")"
      ],
      "metadata": {
        "colab": {
          "base_uri": "https://localhost:8080/",
          "height": 483
        },
        "id": "3BWqpYI1oGxv",
        "outputId": "c499bd89-1fc0-459b-db36-85a4f5a2ea3e"
      },
      "execution_count": 70,
      "outputs": [
        {
          "output_type": "stream",
          "name": "stdout",
          "text": [
            "Learning rate set to 0.136665\n",
            "0:\tlearn: 37.1904239\ttest: 36.9054716\tbest: 36.9054716 (0)\ttotal: 1.19s\tremaining: 19m 44s\n"
          ]
        },
        {
          "output_type": "error",
          "ename": "KeyboardInterrupt",
          "evalue": "",
          "traceback": [
            "\u001b[0;31m---------------------------------------------------------------------------\u001b[0m",
            "\u001b[0;31mKeyboardInterrupt\u001b[0m                         Traceback (most recent call last)",
            "\u001b[0;32m/tmp/ipython-input-1804992375.py\u001b[0m in \u001b[0;36m<cell line: 0>\u001b[0;34m()\u001b[0m\n\u001b[1;32m      1\u001b[0m \u001b[0mmodel\u001b[0m \u001b[0;34m=\u001b[0m \u001b[0mCatBoostRegressor\u001b[0m\u001b[0;34m(\u001b[0m\u001b[0;34m)\u001b[0m\u001b[0;34m\u001b[0m\u001b[0;34m\u001b[0m\u001b[0m\n\u001b[1;32m      2\u001b[0m \u001b[0;34m\u001b[0m\u001b[0m\n\u001b[0;32m----> 3\u001b[0;31m model.fit(\n\u001b[0m\u001b[1;32m      4\u001b[0m     \u001b[0mx_train\u001b[0m\u001b[0;34m,\u001b[0m \u001b[0my_train\u001b[0m\u001b[0;34m,\u001b[0m\u001b[0;34m\u001b[0m\u001b[0;34m\u001b[0m\u001b[0m\n\u001b[1;32m      5\u001b[0m     \u001b[0meval_set\u001b[0m\u001b[0;34m=\u001b[0m\u001b[0;34m(\u001b[0m\u001b[0mx_val\u001b[0m\u001b[0;34m,\u001b[0m \u001b[0my_val\u001b[0m\u001b[0;34m)\u001b[0m\u001b[0;34m,\u001b[0m\u001b[0;34m\u001b[0m\u001b[0;34m\u001b[0m\u001b[0m\n",
            "\u001b[0;32m/usr/local/lib/python3.11/dist-packages/catboost/core.py\u001b[0m in \u001b[0;36mfit\u001b[0;34m(self, X, y, cat_features, text_features, embedding_features, graph, sample_weight, baseline, use_best_model, eval_set, verbose, logging_level, plot, plot_file, column_description, verbose_eval, metric_period, silent, early_stopping_rounds, save_snapshot, snapshot_file, snapshot_interval, init_model, callbacks, log_cout, log_cerr)\u001b[0m\n\u001b[1;32m   5871\u001b[0m         \u001b[0;32mif\u001b[0m \u001b[0;34m'loss_function'\u001b[0m \u001b[0;32min\u001b[0m \u001b[0mparams\u001b[0m\u001b[0;34m:\u001b[0m\u001b[0;34m\u001b[0m\u001b[0;34m\u001b[0m\u001b[0m\n\u001b[1;32m   5872\u001b[0m             \u001b[0mCatBoostRegressor\u001b[0m\u001b[0;34m.\u001b[0m\u001b[0m_check_is_compatible_loss\u001b[0m\u001b[0;34m(\u001b[0m\u001b[0mparams\u001b[0m\u001b[0;34m[\u001b[0m\u001b[0;34m'loss_function'\u001b[0m\u001b[0;34m]\u001b[0m\u001b[0;34m)\u001b[0m\u001b[0;34m\u001b[0m\u001b[0;34m\u001b[0m\u001b[0m\n\u001b[0;32m-> 5873\u001b[0;31m         return self._fit(X, y, cat_features, text_features, embedding_features, None, graph, sample_weight, None, None, None, None, baseline,\n\u001b[0m\u001b[1;32m   5874\u001b[0m                          \u001b[0muse_best_model\u001b[0m\u001b[0;34m,\u001b[0m \u001b[0meval_set\u001b[0m\u001b[0;34m,\u001b[0m \u001b[0mverbose\u001b[0m\u001b[0;34m,\u001b[0m \u001b[0mlogging_level\u001b[0m\u001b[0;34m,\u001b[0m \u001b[0mplot\u001b[0m\u001b[0;34m,\u001b[0m \u001b[0mplot_file\u001b[0m\u001b[0;34m,\u001b[0m \u001b[0mcolumn_description\u001b[0m\u001b[0;34m,\u001b[0m\u001b[0;34m\u001b[0m\u001b[0;34m\u001b[0m\u001b[0m\n\u001b[1;32m   5875\u001b[0m                          \u001b[0mverbose_eval\u001b[0m\u001b[0;34m,\u001b[0m \u001b[0mmetric_period\u001b[0m\u001b[0;34m,\u001b[0m \u001b[0msilent\u001b[0m\u001b[0;34m,\u001b[0m \u001b[0mearly_stopping_rounds\u001b[0m\u001b[0;34m,\u001b[0m\u001b[0;34m\u001b[0m\u001b[0;34m\u001b[0m\u001b[0m\n",
            "\u001b[0;32m/usr/local/lib/python3.11/dist-packages/catboost/core.py\u001b[0m in \u001b[0;36m_fit\u001b[0;34m(self, X, y, cat_features, text_features, embedding_features, pairs, graph, sample_weight, group_id, group_weight, subgroup_id, pairs_weight, baseline, use_best_model, eval_set, verbose, logging_level, plot, plot_file, column_description, verbose_eval, metric_period, silent, early_stopping_rounds, save_snapshot, snapshot_file, snapshot_interval, init_model, callbacks, log_cout, log_cerr)\u001b[0m\n\u001b[1;32m   2408\u001b[0m \u001b[0;34m\u001b[0m\u001b[0m\n\u001b[1;32m   2409\u001b[0m             \u001b[0;32mwith\u001b[0m \u001b[0mplot_wrapper\u001b[0m\u001b[0;34m(\u001b[0m\u001b[0mplot\u001b[0m\u001b[0;34m,\u001b[0m \u001b[0mplot_file\u001b[0m\u001b[0;34m,\u001b[0m \u001b[0;34m'Training plots'\u001b[0m\u001b[0;34m,\u001b[0m \u001b[0;34m[\u001b[0m\u001b[0m_get_train_dir\u001b[0m\u001b[0;34m(\u001b[0m\u001b[0mself\u001b[0m\u001b[0;34m.\u001b[0m\u001b[0mget_params\u001b[0m\u001b[0;34m(\u001b[0m\u001b[0;34m)\u001b[0m\u001b[0;34m)\u001b[0m\u001b[0;34m]\u001b[0m\u001b[0;34m)\u001b[0m\u001b[0;34m:\u001b[0m\u001b[0;34m\u001b[0m\u001b[0;34m\u001b[0m\u001b[0m\n\u001b[0;32m-> 2410\u001b[0;31m                 self._train(\n\u001b[0m\u001b[1;32m   2411\u001b[0m                     \u001b[0mtrain_pool\u001b[0m\u001b[0;34m,\u001b[0m\u001b[0;34m\u001b[0m\u001b[0;34m\u001b[0m\u001b[0m\n\u001b[1;32m   2412\u001b[0m                     \u001b[0mtrain_params\u001b[0m\u001b[0;34m[\u001b[0m\u001b[0;34m\"eval_sets\"\u001b[0m\u001b[0;34m]\u001b[0m\u001b[0;34m,\u001b[0m\u001b[0;34m\u001b[0m\u001b[0;34m\u001b[0m\u001b[0m\n",
            "\u001b[0;32m/usr/local/lib/python3.11/dist-packages/catboost/core.py\u001b[0m in \u001b[0;36m_train\u001b[0;34m(self, train_pool, test_pool, params, allow_clear_pool, init_model)\u001b[0m\n\u001b[1;32m   1788\u001b[0m \u001b[0;34m\u001b[0m\u001b[0m\n\u001b[1;32m   1789\u001b[0m     \u001b[0;32mdef\u001b[0m \u001b[0m_train\u001b[0m\u001b[0;34m(\u001b[0m\u001b[0mself\u001b[0m\u001b[0;34m,\u001b[0m \u001b[0mtrain_pool\u001b[0m\u001b[0;34m,\u001b[0m \u001b[0mtest_pool\u001b[0m\u001b[0;34m,\u001b[0m \u001b[0mparams\u001b[0m\u001b[0;34m,\u001b[0m \u001b[0mallow_clear_pool\u001b[0m\u001b[0;34m,\u001b[0m \u001b[0minit_model\u001b[0m\u001b[0;34m)\u001b[0m\u001b[0;34m:\u001b[0m\u001b[0;34m\u001b[0m\u001b[0;34m\u001b[0m\u001b[0m\n\u001b[0;32m-> 1790\u001b[0;31m         \u001b[0mself\u001b[0m\u001b[0;34m.\u001b[0m\u001b[0m_object\u001b[0m\u001b[0;34m.\u001b[0m\u001b[0m_train\u001b[0m\u001b[0;34m(\u001b[0m\u001b[0mtrain_pool\u001b[0m\u001b[0;34m,\u001b[0m \u001b[0mtest_pool\u001b[0m\u001b[0;34m,\u001b[0m \u001b[0mparams\u001b[0m\u001b[0;34m,\u001b[0m \u001b[0mallow_clear_pool\u001b[0m\u001b[0;34m,\u001b[0m \u001b[0minit_model\u001b[0m\u001b[0;34m.\u001b[0m\u001b[0m_object\u001b[0m \u001b[0;32mif\u001b[0m \u001b[0minit_model\u001b[0m \u001b[0;32melse\u001b[0m \u001b[0;32mNone\u001b[0m\u001b[0;34m)\u001b[0m\u001b[0;34m\u001b[0m\u001b[0;34m\u001b[0m\u001b[0m\n\u001b[0m\u001b[1;32m   1791\u001b[0m         \u001b[0mself\u001b[0m\u001b[0;34m.\u001b[0m\u001b[0m_set_trained_model_attributes\u001b[0m\u001b[0;34m(\u001b[0m\u001b[0;34m)\u001b[0m\u001b[0;34m\u001b[0m\u001b[0;34m\u001b[0m\u001b[0m\n\u001b[1;32m   1792\u001b[0m \u001b[0;34m\u001b[0m\u001b[0m\n",
            "\u001b[0;32m_catboost.pyx\u001b[0m in \u001b[0;36m_catboost._CatBoost._train\u001b[0;34m()\u001b[0m\n",
            "\u001b[0;32m_catboost.pyx\u001b[0m in \u001b[0;36m_catboost._CatBoost._train\u001b[0;34m()\u001b[0m\n",
            "\u001b[0;31mKeyboardInterrupt\u001b[0m: "
          ]
        }
      ]
    },
    {
      "cell_type": "code",
      "source": [
        "y_pred = model.predict(x_val)\n",
        "\n",
        "rmse = np.sqrt(mean_squared_error(y_val, y_pred))\n",
        "print(f\"Validation RMSE: {rmse:.4f}\")"
      ],
      "metadata": {
        "id": "UVSagNBpoKtX",
        "colab": {
          "base_uri": "https://localhost:8080/"
        },
        "outputId": "10d9ac57-f877-4f93-cc89-0726a3ab129c"
      },
      "execution_count": null,
      "outputs": [
        {
          "output_type": "stream",
          "name": "stdout",
          "text": [
            "Validation RMSE: 13.9474\n"
          ]
        }
      ]
    },
    {
      "cell_type": "markdown",
      "source": [
        "Prediction"
      ],
      "metadata": {
        "id": "rnvwS9sY0vo0"
      }
    },
    {
      "cell_type": "code",
      "source": [
        "def make_expanded_test(df, test_prefix):\n",
        "    df = df.sort_values(['영업장명_메뉴명', '영업일자'])\n",
        "    df['영업일자'] = pd.to_datetime(df['영업일자'])\n",
        "\n",
        "    result = []\n",
        "\n",
        "    for name, group in df.groupby('영업장명_메뉴명'):\n",
        "        group = group.sort_values('영업일자')\n",
        "        sales = group['매출수량'].values\n",
        "        dates = group['영업일자'].values\n",
        "        store_name = group['영업장명'].iloc[0]\n",
        "        menu_name = group['메뉴명'].iloc[0]\n",
        "\n",
        "        start_date = dates[0]\n",
        "\n",
        "        for j in range(7):\n",
        "            predict_date = start_date + pd.Timedelta(days=28 + j)\n",
        "\n",
        "            result.append({\n",
        "                '영업장명_메뉴명': name,\n",
        "                '영업일자':f\"{test_prefix}+{j+1}일\",\n",
        "                'store_name': store_name,\n",
        "                'menu_name': menu_name,\n",
        "                'start_date': start_date,\n",
        "                **{f'X_{k}': sales[k] for k in range(28)},\n",
        "                'predict_date': predict_date,\n",
        "                'predict_date_offset': j + 1\n",
        "            })\n",
        "\n",
        "    df_result = pd.DataFrame(result)\n",
        "\n",
        "\n",
        "    df_result.insert(df_result.columns.get_loc('start_date') + 1, 'start_date_year', df_result['start_date'].dt.year)\n",
        "    df_result.insert(df_result.columns.get_loc('start_date') + 2, 'start_date_month', df_result['start_date'].dt.month)\n",
        "    df_result.insert(df_result.columns.get_loc('start_date') + 3, 'start_date_day', df_result['start_date'].dt.day)\n",
        "    df_result.insert(df_result.columns.get_loc('start_date') + 4, 'start_date_weekday', df_result['start_date'].dt.day_name())\n",
        "    df_result.insert(df_result.columns.get_loc('start_date') + 5, 'start_date_holiday',\n",
        "                     df_result['start_date'].dt.date.isin(holidays.KR(years=[2023, 2024, 2025])).astype(int))\n",
        "    df_result.insert(df_result.columns.get_loc('start_date') + 6, 'start_date_quarter', df_result['start_date'].dt.quarter)\n",
        "\n",
        "\n",
        "    df_result.insert(df_result.columns.get_loc('predict_date') + 1, 'predict_date_year', df_result['predict_date'].dt.year)\n",
        "    df_result.insert(df_result.columns.get_loc('predict_date') + 2, 'predict_date_month', df_result['predict_date'].dt.month)\n",
        "    df_result.insert(df_result.columns.get_loc('predict_date') + 3, 'predict_date_day', df_result['predict_date'].dt.day)\n",
        "    df_result.insert(df_result.columns.get_loc('predict_date') + 4, 'predict_date_weekday', df_result['predict_date'].dt.day_name())\n",
        "    df_result.insert(df_result.columns.get_loc('predict_date') + 5, 'predict_date_holiday',\n",
        "                     df_result['predict_date'].dt.date.isin(holidays.KR(years=[2023, 2024, 2025])).astype(int))\n",
        "    df_result.insert(df_result.columns.get_loc('predict_date') + 6, 'predict_date_quarter', df_result['predict_date'].dt.quarter)\n",
        "\n",
        "    return df_result"
      ],
      "metadata": {
        "id": "ilbxeJKU0T9P"
      },
      "execution_count": null,
      "outputs": []
    },
    {
      "cell_type": "code",
      "source": [
        "df_test_list = []\n",
        "\n",
        "test_files = sorted(glob.glob('/content/data/TEST_*.csv'))\n",
        "\n",
        "for path in test_files:\n",
        "    test_data = pd.read_csv(path, encoding='utf-8-sig')\n",
        "\n",
        "    test_data = test_data.sort_values(['영업장명_메뉴명', '영업일자'])\n",
        "    test_data['영업일자'] = pd.to_datetime(test_data['영업일자'])\n",
        "\n",
        "    test_data['요일'] = test_data['영업일자'].dt.day_name()\n",
        "\n",
        "    test_data[['영업장명', '메뉴명']] = test_data['영업장명_메뉴명'].str.split('_', n=1, expand=True)\n",
        "\n",
        "    filename = os.path.basename(path)\n",
        "    test_prefix = re.search(r'(TEST_\\d+)', filename).group(1)\n",
        "\n",
        "    df_temp = make_expanded_test(test_data.copy(), test_prefix)\n",
        "\n",
        "    df_test_list.append(df_temp)\n",
        "\n",
        "df_test = pd.concat(df_test_list, ignore_index=True)"
      ],
      "metadata": {
        "id": "I4-PhE7O07Xx"
      },
      "execution_count": null,
      "outputs": []
    },
    {
      "cell_type": "code",
      "source": [
        "x_test = df_test[features]\n",
        "y_test = model.predict(x_test)"
      ],
      "metadata": {
        "id": "9slxoGkN3GZW"
      },
      "execution_count": null,
      "outputs": []
    },
    {
      "cell_type": "code",
      "source": [
        "df_test['매출수량'] = y_test"
      ],
      "metadata": {
        "id": "NJDtaToi7L9A"
      },
      "execution_count": null,
      "outputs": []
    },
    {
      "cell_type": "code",
      "source": [
        "def convert_to_submission_format(pred_df: pd.DataFrame, sample_submission: pd.DataFrame):\n",
        "    # (영업일자, 메뉴) → 매출수량 딕셔너리로 변환\n",
        "    pred_dict = dict(zip(\n",
        "        zip(pred_df['영업일자'], pred_df['영업장명_메뉴명']),\n",
        "        pred_df['매출수량']\n",
        "    ))\n",
        "\n",
        "    final_df = sample_submission.copy()\n",
        "\n",
        "    for col in final_df.columns[1:]:\n",
        "      final_df[col] = final_df[col].astype(float)\n",
        "\n",
        "    for row_idx in final_df.index:\n",
        "        date = final_df.loc[row_idx, '영업일자']\n",
        "        for col in final_df.columns[1:]:\n",
        "            final_df.loc[row_idx, col] = max(0, pred_dict.get((date, col), 0))\n",
        "\n",
        "    return final_df"
      ],
      "metadata": {
        "id": "74hNlFc67NQ4"
      },
      "execution_count": null,
      "outputs": []
    },
    {
      "cell_type": "code",
      "source": [
        "sample_submission = pd.read_csv('/content/data/sample_submission.csv')\n",
        "submission = convert_to_submission_format(df_test, sample_submission)\n",
        "submission.to_csv('/content/data/submission.csv', index=False, encoding='utf-8-sig')"
      ],
      "metadata": {
        "id": "WW_skDEU7Pm_"
      },
      "execution_count": null,
      "outputs": []
    },
    {
      "cell_type": "code",
      "source": [],
      "metadata": {
        "id": "KUGzuAjN7TZ9"
      },
      "execution_count": null,
      "outputs": []
    }
  ]
}