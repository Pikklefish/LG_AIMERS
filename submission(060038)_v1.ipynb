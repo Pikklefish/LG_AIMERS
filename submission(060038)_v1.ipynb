{
  "nbformat": 4,
  "nbformat_minor": 0,
  "metadata": {
    "colab": {
      "provenance": [],
      "gpuType": "T4"
    },
    "kernelspec": {
      "name": "python3",
      "display_name": "Python 3"
    },
    "language_info": {
      "name": "python"
    },
    "accelerator": "GPU"
  },
  "cells": [
    {
      "cell_type": "code",
      "source": [
        "from google.colab import drive\n",
        "drive.mount('/content/drive')"
      ],
      "metadata": {
        "colab": {
          "base_uri": "https://localhost:8080/"
        },
        "id": "mBJbuWBG1_C5",
        "outputId": "57d69587-e4ca-4369-e455-dee022a8ac4d"
      },
      "execution_count": 3,
      "outputs": [
        {
          "output_type": "stream",
          "name": "stdout",
          "text": [
            "Drive already mounted at /content/drive; to attempt to forcibly remount, call drive.mount(\"/content/drive\", force_remount=True).\n"
          ]
        }
      ]
    },
    {
      "cell_type": "code",
      "source": [
        "import shutil\n",
        "\n",
        "source_folder = '/content/drive/MyDrive/LGAimers/data'\n",
        "destination_folder = '/content/data'\n",
        "\n",
        "try:\n",
        "    shutil.copytree(source_folder, destination_folder)\n",
        "except FileExistsError:\n",
        "    print(f\"폴더 '{destination_folder}'가 이미 존재\")"
      ],
      "metadata": {
        "id": "g45e18Qf2NMK"
      },
      "execution_count": 4,
      "outputs": []
    },
    {
      "cell_type": "code",
      "execution_count": 5,
      "metadata": {
        "id": "NrAs4NeRYB1e",
        "colab": {
          "base_uri": "https://localhost:8080/"
        },
        "outputId": "8e7942e9-971e-46e9-96af-95a44ce4f1e7"
      },
      "outputs": [
        {
          "output_type": "stream",
          "name": "stdout",
          "text": [
            "Collecting catboost\n",
            "  Downloading catboost-1.2.8-cp311-cp311-manylinux2014_x86_64.whl.metadata (1.2 kB)\n",
            "Requirement already satisfied: graphviz in /usr/local/lib/python3.11/dist-packages (from catboost) (0.21)\n",
            "Requirement already satisfied: matplotlib in /usr/local/lib/python3.11/dist-packages (from catboost) (3.10.0)\n",
            "Requirement already satisfied: numpy<3.0,>=1.16.0 in /usr/local/lib/python3.11/dist-packages (from catboost) (2.0.2)\n",
            "Requirement already satisfied: pandas>=0.24 in /usr/local/lib/python3.11/dist-packages (from catboost) (2.2.2)\n",
            "Requirement already satisfied: scipy in /usr/local/lib/python3.11/dist-packages (from catboost) (1.16.1)\n",
            "Requirement already satisfied: plotly in /usr/local/lib/python3.11/dist-packages (from catboost) (5.24.1)\n",
            "Requirement already satisfied: six in /usr/local/lib/python3.11/dist-packages (from catboost) (1.17.0)\n",
            "Requirement already satisfied: python-dateutil>=2.8.2 in /usr/local/lib/python3.11/dist-packages (from pandas>=0.24->catboost) (2.9.0.post0)\n",
            "Requirement already satisfied: pytz>=2020.1 in /usr/local/lib/python3.11/dist-packages (from pandas>=0.24->catboost) (2025.2)\n",
            "Requirement already satisfied: tzdata>=2022.7 in /usr/local/lib/python3.11/dist-packages (from pandas>=0.24->catboost) (2025.2)\n",
            "Requirement already satisfied: contourpy>=1.0.1 in /usr/local/lib/python3.11/dist-packages (from matplotlib->catboost) (1.3.3)\n",
            "Requirement already satisfied: cycler>=0.10 in /usr/local/lib/python3.11/dist-packages (from matplotlib->catboost) (0.12.1)\n",
            "Requirement already satisfied: fonttools>=4.22.0 in /usr/local/lib/python3.11/dist-packages (from matplotlib->catboost) (4.59.0)\n",
            "Requirement already satisfied: kiwisolver>=1.3.1 in /usr/local/lib/python3.11/dist-packages (from matplotlib->catboost) (1.4.9)\n",
            "Requirement already satisfied: packaging>=20.0 in /usr/local/lib/python3.11/dist-packages (from matplotlib->catboost) (25.0)\n",
            "Requirement already satisfied: pillow>=8 in /usr/local/lib/python3.11/dist-packages (from matplotlib->catboost) (11.3.0)\n",
            "Requirement already satisfied: pyparsing>=2.3.1 in /usr/local/lib/python3.11/dist-packages (from matplotlib->catboost) (3.2.3)\n",
            "Requirement already satisfied: tenacity>=6.2.0 in /usr/local/lib/python3.11/dist-packages (from plotly->catboost) (9.1.2)\n",
            "Downloading catboost-1.2.8-cp311-cp311-manylinux2014_x86_64.whl (99.2 MB)\n",
            "\u001b[2K   \u001b[90m━━━━━━━━━━━━━━━━━━━━━━━━━━━━━━━━━━━━━━━━\u001b[0m \u001b[32m99.2/99.2 MB\u001b[0m \u001b[31m8.8 MB/s\u001b[0m eta \u001b[36m0:00:00\u001b[0m\n",
            "\u001b[?25hInstalling collected packages: catboost\n",
            "Successfully installed catboost-1.2.8\n",
            "Requirement already satisfied: holidays in /usr/local/lib/python3.11/dist-packages (0.78)\n",
            "Requirement already satisfied: python-dateutil in /usr/local/lib/python3.11/dist-packages (from holidays) (2.9.0.post0)\n",
            "Requirement already satisfied: six>=1.5 in /usr/local/lib/python3.11/dist-packages (from python-dateutil->holidays) (1.17.0)\n"
          ]
        }
      ],
      "source": [
        "!pip install catboost\n",
        "!pip install holidays"
      ]
    },
    {
      "cell_type": "code",
      "source": [
        "import os\n",
        "import random\n",
        "import glob\n",
        "import re\n",
        "\n",
        "import pandas as pd\n",
        "import numpy as np\n",
        "\n",
        "from sklearn.preprocessing import MinMaxScaler\n",
        "from sklearn.model_selection import train_test_split\n",
        "\n",
        "\n",
        "import torch\n",
        "import torch.nn as nn\n",
        "from tqdm import tqdm\n",
        "\n",
        "from catboost import CatBoostRegressor\n",
        "from sklearn.metrics import mean_squared_error\n",
        "\n",
        "import pandas as pd\n",
        "import holidays\n",
        "from tqdm import tqdm"
      ],
      "metadata": {
        "id": "lXi2W7FpbN4F"
      },
      "execution_count": 6,
      "outputs": []
    },
    {
      "cell_type": "markdown",
      "source": [
        "Fixed RandomSeed & Setting Hyperparameter"
      ],
      "metadata": {
        "id": "nRt9aGgWbioV"
      }
    },
    {
      "cell_type": "code",
      "source": [
        "def set_seed(seed=42):\n",
        "    random.seed(seed)\n",
        "    np.random.seed(seed)\n",
        "    torch.manual_seed(seed)\n",
        "    os.environ['PYTHONHASHSEED'] = str(seed)\n",
        "\n",
        "    if torch.cuda.is_available():\n",
        "        torch.cuda.manual_seed(seed)\n",
        "        torch.cuda.manual_seed_all(seed)\n",
        "        torch.backends.cudnn.deterministic = True\n",
        "        torch.backends.cudnn.benchmark = False\n",
        "\n",
        "set_seed(42)"
      ],
      "metadata": {
        "id": "Vc6TPjwhbQpF"
      },
      "execution_count": 7,
      "outputs": []
    },
    {
      "cell_type": "code",
      "source": [
        "LOOKBACK, PREDICT, BATCH_SIZE, EPOCHS = 28, 7, 16, 50\n",
        "DEVICE = torch.device('cuda' if torch.cuda.is_available() else 'cpu')"
      ],
      "metadata": {
        "id": "WI1OVVMbbmnk"
      },
      "execution_count": 8,
      "outputs": []
    },
    {
      "cell_type": "markdown",
      "source": [
        "LOAD DATA"
      ],
      "metadata": {
        "id": "8pehMo_RcQfm"
      }
    },
    {
      "cell_type": "code",
      "source": [
        "train_data = pd.read_csv('/content/data/train.csv', encoding='utf-8-sig')\n",
        "print(train_data)"
      ],
      "metadata": {
        "colab": {
          "base_uri": "https://localhost:8080/"
        },
        "id": "JBaT9ORZbnSK",
        "outputId": "3cb13a74-5ad9-425e-c89e-b48513477761"
      },
      "execution_count": 9,
      "outputs": [
        {
          "output_type": "stream",
          "name": "stdout",
          "text": [
            "              영업일자            영업장명_메뉴명  매출수량\n",
            "0       2023-01-01  느티나무 셀프BBQ_1인 수저세트     0\n",
            "1       2023-01-02  느티나무 셀프BBQ_1인 수저세트     0\n",
            "2       2023-01-03  느티나무 셀프BBQ_1인 수저세트     0\n",
            "3       2023-01-04  느티나무 셀프BBQ_1인 수저세트     0\n",
            "4       2023-01-05  느티나무 셀프BBQ_1인 수저세트     0\n",
            "...            ...                 ...   ...\n",
            "102671  2024-06-11        화담숲카페_현미뻥스크림    12\n",
            "102672  2024-06-12        화담숲카페_현미뻥스크림    10\n",
            "102673  2024-06-13        화담숲카페_현미뻥스크림    14\n",
            "102674  2024-06-14        화담숲카페_현미뻥스크림    12\n",
            "102675  2024-06-15        화담숲카페_현미뻥스크림    60\n",
            "\n",
            "[102676 rows x 3 columns]\n"
          ]
        }
      ]
    },
    {
      "cell_type": "markdown",
      "source": [
        "Data analysis"
      ],
      "metadata": {
        "id": "6Frc8ETtcy5u"
      }
    },
    {
      "cell_type": "code",
      "source": [
        "##sort by menu and chronological time\n",
        "train_data = train_data.sort_values(['영업장명_메뉴명', '영업일자'])\n",
        "train_data['영업일자'] = pd.to_datetime(train_data['영업일자'])\n",
        "train_data['요일'] = train_data['영업일자'].dt.day_name()\n",
        "train_data[['영업장명', '메뉴명']] = train_data['영업장명_메뉴명'].str.split('_', n=1, expand=True)\n",
        "\n",
        "print(train_data)"
      ],
      "metadata": {
        "colab": {
          "base_uri": "https://localhost:8080/"
        },
        "id": "kNvpUhw6cyZc",
        "outputId": "a5eae0fe-d261-4bcd-93e2-e5c25ae066c9"
      },
      "execution_count": 10,
      "outputs": [
        {
          "output_type": "stream",
          "name": "stdout",
          "text": [
            "             영업일자            영업장명_메뉴명  매출수량         요일        영업장명      메뉴명\n",
            "0      2023-01-01  느티나무 셀프BBQ_1인 수저세트     0     Sunday  느티나무 셀프BBQ  1인 수저세트\n",
            "1      2023-01-02  느티나무 셀프BBQ_1인 수저세트     0     Monday  느티나무 셀프BBQ  1인 수저세트\n",
            "2      2023-01-03  느티나무 셀프BBQ_1인 수저세트     0    Tuesday  느티나무 셀프BBQ  1인 수저세트\n",
            "3      2023-01-04  느티나무 셀프BBQ_1인 수저세트     0  Wednesday  느티나무 셀프BBQ  1인 수저세트\n",
            "4      2023-01-05  느티나무 셀프BBQ_1인 수저세트     0   Thursday  느티나무 셀프BBQ  1인 수저세트\n",
            "...           ...                 ...   ...        ...         ...      ...\n",
            "102671 2024-06-11        화담숲카페_현미뻥스크림    12    Tuesday       화담숲카페   현미뻥스크림\n",
            "102672 2024-06-12        화담숲카페_현미뻥스크림    10  Wednesday       화담숲카페   현미뻥스크림\n",
            "102673 2024-06-13        화담숲카페_현미뻥스크림    14   Thursday       화담숲카페   현미뻥스크림\n",
            "102674 2024-06-14        화담숲카페_현미뻥스크림    12     Friday       화담숲카페   현미뻥스크림\n",
            "102675 2024-06-15        화담숲카페_현미뻥스크림    60   Saturday       화담숲카페   현미뻥스크림\n",
            "\n",
            "[102676 rows x 6 columns]\n"
          ]
        }
      ]
    },
    {
      "cell_type": "code",
      "source": [
        "def make_expanded_train(df, input_window_size=28, predict_window_size=7):\n",
        "    df = df.sort_values(['영업장명_메뉴명', '영업일자'])\n",
        "    df['영업일자'] = pd.to_datetime(df['영업일자'])\n",
        "    df['분기'] = df['영업일자'].dt.quarter\n",
        "\n",
        "    result = []\n",
        "\n",
        "    for name, group in df.groupby('영업장명_메뉴명'):\n",
        "        group = group.sort_values('영업일자')\n",
        "        sales = group['매출수량'].values\n",
        "        dates = group['영업일자'].values\n",
        "        store_name = group['영업장명'].iloc[0]\n",
        "        menu_name = group['메뉴명'].iloc[0]\n",
        "\n",
        "        for i in range(len(group) - input_window_size - predict_window_size + 1):\n",
        "            input_window = sales[i : i + input_window_size]\n",
        "            predict_window = sales[i + input_window_size : i + input_window_size + predict_window_size]\n",
        "            start_date = dates[i]\n",
        "\n",
        "            for j in range(predict_window_size):\n",
        "                predict_date = dates[i + input_window_size + j]\n",
        "\n",
        "                result.append({\n",
        "                    '영업장명_메뉴명': name,\n",
        "                    'store_name': store_name,\n",
        "                    'menu_name': menu_name,\n",
        "                    'start_date': start_date,\n",
        "                    **{f'X_{k}': input_window[k] for k in range(input_window_size)},\n",
        "                    'predict_date': predict_date,\n",
        "                    'predict_date_offset': j + 1,\n",
        "                    'target': predict_window[j]\n",
        "                })\n",
        "\n",
        "    df_result = pd.DataFrame(result)\n",
        "\n",
        "    df_result.insert(df_result.columns.get_loc('start_date') + 1, 'start_date_year', df_result['start_date'].dt.year)\n",
        "    df_result.insert(df_result.columns.get_loc('start_date') + 2, 'start_date_month', df_result['start_date'].dt.month)\n",
        "    df_result.insert(df_result.columns.get_loc('start_date') + 3, 'start_date_day', df_result['start_date'].dt.day)\n",
        "    df_result.insert(df_result.columns.get_loc('start_date') + 4, 'start_date_weekday', df_result['start_date'].dt.day_name())\n",
        "    df_result.insert(df_result.columns.get_loc('start_date') + 5, 'start_date_holiday',\n",
        "                     df_result['start_date'].dt.date.isin(holidays.KR(years=[2023, 2024, 2025])).astype(int))\n",
        "    df_result.insert(df_result.columns.get_loc('start_date') + 6, 'start_date_quarter', df_result['start_date'].dt.quarter)\n",
        "\n",
        "\n",
        "    df_result.insert(df_result.columns.get_loc('predict_date') + 1, 'predict_date_year', df_result['predict_date'].dt.year)\n",
        "    df_result.insert(df_result.columns.get_loc('predict_date') + 2, 'predict_date_month', df_result['predict_date'].dt.month)\n",
        "    df_result.insert(df_result.columns.get_loc('predict_date') + 3, 'predict_date_day', df_result['predict_date'].dt.day)\n",
        "    df_result.insert(df_result.columns.get_loc('predict_date') + 4, 'predict_date_weekday', df_result['predict_date'].dt.day_name())\n",
        "    df_result.insert(df_result.columns.get_loc('predict_date') + 5, 'predict_date_holiday',\n",
        "                     df_result['predict_date'].dt.date.isin(holidays.KR(years=[2023, 2024, 2025])).astype(int))\n",
        "    df_result.insert(df_result.columns.get_loc('predict_date') + 6, 'predict_date_quarter', df_result['predict_date'].dt.quarter)\n",
        "\n",
        "\n",
        "    return df_result"
      ],
      "metadata": {
        "id": "jpacf1yJdI7X"
      },
      "execution_count": 11,
      "outputs": []
    },
    {
      "cell_type": "code",
      "source": [
        "df_train = make_expanded_train(train_data.copy(), input_window_size=28, predict_window_size=7)"
      ],
      "metadata": {
        "id": "g8FYgkSwhABw"
      },
      "execution_count": 12,
      "outputs": []
    },
    {
      "cell_type": "code",
      "source": [
        "print(df_train.shape)\n",
        "df_train.head()"
      ],
      "metadata": {
        "colab": {
          "base_uri": "https://localhost:8080/",
          "height": 847
        },
        "id": "MI1fLHmYhCgQ",
        "outputId": "d96f478c-9021-4a9b-e21a-6228d25a56a6"
      },
      "execution_count": 13,
      "outputs": [
        {
          "output_type": "stream",
          "name": "stdout",
          "text": [
            "(672798, 47)\n"
          ]
        },
        {
          "output_type": "execute_result",
          "data": {
            "text/plain": [
              "             영업장명_메뉴명  store_name menu_name start_date  start_date_year  \\\n",
              "0  느티나무 셀프BBQ_1인 수저세트  느티나무 셀프BBQ   1인 수저세트 2023-01-01             2023   \n",
              "1  느티나무 셀프BBQ_1인 수저세트  느티나무 셀프BBQ   1인 수저세트 2023-01-01             2023   \n",
              "2  느티나무 셀프BBQ_1인 수저세트  느티나무 셀프BBQ   1인 수저세트 2023-01-01             2023   \n",
              "3  느티나무 셀프BBQ_1인 수저세트  느티나무 셀프BBQ   1인 수저세트 2023-01-01             2023   \n",
              "4  느티나무 셀프BBQ_1인 수저세트  느티나무 셀프BBQ   1인 수저세트 2023-01-01             2023   \n",
              "\n",
              "   start_date_month  start_date_day start_date_weekday  start_date_holiday  \\\n",
              "0                 1               1             Sunday                   1   \n",
              "1                 1               1             Sunday                   1   \n",
              "2                 1               1             Sunday                   1   \n",
              "3                 1               1             Sunday                   1   \n",
              "4                 1               1             Sunday                   1   \n",
              "\n",
              "   start_date_quarter  ...  X_27  predict_date  predict_date_year  \\\n",
              "0                   1  ...     0    2023-01-29               2023   \n",
              "1                   1  ...     0    2023-01-30               2023   \n",
              "2                   1  ...     0    2023-01-31               2023   \n",
              "3                   1  ...     0    2023-02-01               2023   \n",
              "4                   1  ...     0    2023-02-02               2023   \n",
              "\n",
              "   predict_date_month  predict_date_day  predict_date_weekday  \\\n",
              "0                   1                29                Sunday   \n",
              "1                   1                30                Monday   \n",
              "2                   1                31               Tuesday   \n",
              "3                   2                 1             Wednesday   \n",
              "4                   2                 2              Thursday   \n",
              "\n",
              "   predict_date_holiday  predict_date_quarter  predict_date_offset  target  \n",
              "0                     0                     1                    1       8  \n",
              "1                     0                     1                    2       0  \n",
              "2                     0                     1                    3       4  \n",
              "3                     0                     1                    4       6  \n",
              "4                     0                     1                    5       2  \n",
              "\n",
              "[5 rows x 47 columns]"
            ],
            "text/html": [
              "\n",
              "  <div id=\"df-89eec9ff-f015-4bb4-8a1a-e98dd7f6be51\" class=\"colab-df-container\">\n",
              "    <div>\n",
              "<style scoped>\n",
              "    .dataframe tbody tr th:only-of-type {\n",
              "        vertical-align: middle;\n",
              "    }\n",
              "\n",
              "    .dataframe tbody tr th {\n",
              "        vertical-align: top;\n",
              "    }\n",
              "\n",
              "    .dataframe thead th {\n",
              "        text-align: right;\n",
              "    }\n",
              "</style>\n",
              "<table border=\"1\" class=\"dataframe\">\n",
              "  <thead>\n",
              "    <tr style=\"text-align: right;\">\n",
              "      <th></th>\n",
              "      <th>영업장명_메뉴명</th>\n",
              "      <th>store_name</th>\n",
              "      <th>menu_name</th>\n",
              "      <th>start_date</th>\n",
              "      <th>start_date_year</th>\n",
              "      <th>start_date_month</th>\n",
              "      <th>start_date_day</th>\n",
              "      <th>start_date_weekday</th>\n",
              "      <th>start_date_holiday</th>\n",
              "      <th>start_date_quarter</th>\n",
              "      <th>...</th>\n",
              "      <th>X_27</th>\n",
              "      <th>predict_date</th>\n",
              "      <th>predict_date_year</th>\n",
              "      <th>predict_date_month</th>\n",
              "      <th>predict_date_day</th>\n",
              "      <th>predict_date_weekday</th>\n",
              "      <th>predict_date_holiday</th>\n",
              "      <th>predict_date_quarter</th>\n",
              "      <th>predict_date_offset</th>\n",
              "      <th>target</th>\n",
              "    </tr>\n",
              "  </thead>\n",
              "  <tbody>\n",
              "    <tr>\n",
              "      <th>0</th>\n",
              "      <td>느티나무 셀프BBQ_1인 수저세트</td>\n",
              "      <td>느티나무 셀프BBQ</td>\n",
              "      <td>1인 수저세트</td>\n",
              "      <td>2023-01-01</td>\n",
              "      <td>2023</td>\n",
              "      <td>1</td>\n",
              "      <td>1</td>\n",
              "      <td>Sunday</td>\n",
              "      <td>1</td>\n",
              "      <td>1</td>\n",
              "      <td>...</td>\n",
              "      <td>0</td>\n",
              "      <td>2023-01-29</td>\n",
              "      <td>2023</td>\n",
              "      <td>1</td>\n",
              "      <td>29</td>\n",
              "      <td>Sunday</td>\n",
              "      <td>0</td>\n",
              "      <td>1</td>\n",
              "      <td>1</td>\n",
              "      <td>8</td>\n",
              "    </tr>\n",
              "    <tr>\n",
              "      <th>1</th>\n",
              "      <td>느티나무 셀프BBQ_1인 수저세트</td>\n",
              "      <td>느티나무 셀프BBQ</td>\n",
              "      <td>1인 수저세트</td>\n",
              "      <td>2023-01-01</td>\n",
              "      <td>2023</td>\n",
              "      <td>1</td>\n",
              "      <td>1</td>\n",
              "      <td>Sunday</td>\n",
              "      <td>1</td>\n",
              "      <td>1</td>\n",
              "      <td>...</td>\n",
              "      <td>0</td>\n",
              "      <td>2023-01-30</td>\n",
              "      <td>2023</td>\n",
              "      <td>1</td>\n",
              "      <td>30</td>\n",
              "      <td>Monday</td>\n",
              "      <td>0</td>\n",
              "      <td>1</td>\n",
              "      <td>2</td>\n",
              "      <td>0</td>\n",
              "    </tr>\n",
              "    <tr>\n",
              "      <th>2</th>\n",
              "      <td>느티나무 셀프BBQ_1인 수저세트</td>\n",
              "      <td>느티나무 셀프BBQ</td>\n",
              "      <td>1인 수저세트</td>\n",
              "      <td>2023-01-01</td>\n",
              "      <td>2023</td>\n",
              "      <td>1</td>\n",
              "      <td>1</td>\n",
              "      <td>Sunday</td>\n",
              "      <td>1</td>\n",
              "      <td>1</td>\n",
              "      <td>...</td>\n",
              "      <td>0</td>\n",
              "      <td>2023-01-31</td>\n",
              "      <td>2023</td>\n",
              "      <td>1</td>\n",
              "      <td>31</td>\n",
              "      <td>Tuesday</td>\n",
              "      <td>0</td>\n",
              "      <td>1</td>\n",
              "      <td>3</td>\n",
              "      <td>4</td>\n",
              "    </tr>\n",
              "    <tr>\n",
              "      <th>3</th>\n",
              "      <td>느티나무 셀프BBQ_1인 수저세트</td>\n",
              "      <td>느티나무 셀프BBQ</td>\n",
              "      <td>1인 수저세트</td>\n",
              "      <td>2023-01-01</td>\n",
              "      <td>2023</td>\n",
              "      <td>1</td>\n",
              "      <td>1</td>\n",
              "      <td>Sunday</td>\n",
              "      <td>1</td>\n",
              "      <td>1</td>\n",
              "      <td>...</td>\n",
              "      <td>0</td>\n",
              "      <td>2023-02-01</td>\n",
              "      <td>2023</td>\n",
              "      <td>2</td>\n",
              "      <td>1</td>\n",
              "      <td>Wednesday</td>\n",
              "      <td>0</td>\n",
              "      <td>1</td>\n",
              "      <td>4</td>\n",
              "      <td>6</td>\n",
              "    </tr>\n",
              "    <tr>\n",
              "      <th>4</th>\n",
              "      <td>느티나무 셀프BBQ_1인 수저세트</td>\n",
              "      <td>느티나무 셀프BBQ</td>\n",
              "      <td>1인 수저세트</td>\n",
              "      <td>2023-01-01</td>\n",
              "      <td>2023</td>\n",
              "      <td>1</td>\n",
              "      <td>1</td>\n",
              "      <td>Sunday</td>\n",
              "      <td>1</td>\n",
              "      <td>1</td>\n",
              "      <td>...</td>\n",
              "      <td>0</td>\n",
              "      <td>2023-02-02</td>\n",
              "      <td>2023</td>\n",
              "      <td>2</td>\n",
              "      <td>2</td>\n",
              "      <td>Thursday</td>\n",
              "      <td>0</td>\n",
              "      <td>1</td>\n",
              "      <td>5</td>\n",
              "      <td>2</td>\n",
              "    </tr>\n",
              "  </tbody>\n",
              "</table>\n",
              "<p>5 rows × 47 columns</p>\n",
              "</div>\n",
              "    <div class=\"colab-df-buttons\">\n",
              "\n",
              "  <div class=\"colab-df-container\">\n",
              "    <button class=\"colab-df-convert\" onclick=\"convertToInteractive('df-89eec9ff-f015-4bb4-8a1a-e98dd7f6be51')\"\n",
              "            title=\"Convert this dataframe to an interactive table.\"\n",
              "            style=\"display:none;\">\n",
              "\n",
              "  <svg xmlns=\"http://www.w3.org/2000/svg\" height=\"24px\" viewBox=\"0 -960 960 960\">\n",
              "    <path d=\"M120-120v-720h720v720H120Zm60-500h600v-160H180v160Zm220 220h160v-160H400v160Zm0 220h160v-160H400v160ZM180-400h160v-160H180v160Zm440 0h160v-160H620v160ZM180-180h160v-160H180v160Zm440 0h160v-160H620v160Z\"/>\n",
              "  </svg>\n",
              "    </button>\n",
              "\n",
              "  <style>\n",
              "    .colab-df-container {\n",
              "      display:flex;\n",
              "      gap: 12px;\n",
              "    }\n",
              "\n",
              "    .colab-df-convert {\n",
              "      background-color: #E8F0FE;\n",
              "      border: none;\n",
              "      border-radius: 50%;\n",
              "      cursor: pointer;\n",
              "      display: none;\n",
              "      fill: #1967D2;\n",
              "      height: 32px;\n",
              "      padding: 0 0 0 0;\n",
              "      width: 32px;\n",
              "    }\n",
              "\n",
              "    .colab-df-convert:hover {\n",
              "      background-color: #E2EBFA;\n",
              "      box-shadow: 0px 1px 2px rgba(60, 64, 67, 0.3), 0px 1px 3px 1px rgba(60, 64, 67, 0.15);\n",
              "      fill: #174EA6;\n",
              "    }\n",
              "\n",
              "    .colab-df-buttons div {\n",
              "      margin-bottom: 4px;\n",
              "    }\n",
              "\n",
              "    [theme=dark] .colab-df-convert {\n",
              "      background-color: #3B4455;\n",
              "      fill: #D2E3FC;\n",
              "    }\n",
              "\n",
              "    [theme=dark] .colab-df-convert:hover {\n",
              "      background-color: #434B5C;\n",
              "      box-shadow: 0px 1px 3px 1px rgba(0, 0, 0, 0.15);\n",
              "      filter: drop-shadow(0px 1px 2px rgba(0, 0, 0, 0.3));\n",
              "      fill: #FFFFFF;\n",
              "    }\n",
              "  </style>\n",
              "\n",
              "    <script>\n",
              "      const buttonEl =\n",
              "        document.querySelector('#df-89eec9ff-f015-4bb4-8a1a-e98dd7f6be51 button.colab-df-convert');\n",
              "      buttonEl.style.display =\n",
              "        google.colab.kernel.accessAllowed ? 'block' : 'none';\n",
              "\n",
              "      async function convertToInteractive(key) {\n",
              "        const element = document.querySelector('#df-89eec9ff-f015-4bb4-8a1a-e98dd7f6be51');\n",
              "        const dataTable =\n",
              "          await google.colab.kernel.invokeFunction('convertToInteractive',\n",
              "                                                    [key], {});\n",
              "        if (!dataTable) return;\n",
              "\n",
              "        const docLinkHtml = 'Like what you see? Visit the ' +\n",
              "          '<a target=\"_blank\" href=https://colab.research.google.com/notebooks/data_table.ipynb>data table notebook</a>'\n",
              "          + ' to learn more about interactive tables.';\n",
              "        element.innerHTML = '';\n",
              "        dataTable['output_type'] = 'display_data';\n",
              "        await google.colab.output.renderOutput(dataTable, element);\n",
              "        const docLink = document.createElement('div');\n",
              "        docLink.innerHTML = docLinkHtml;\n",
              "        element.appendChild(docLink);\n",
              "      }\n",
              "    </script>\n",
              "  </div>\n",
              "\n",
              "\n",
              "    <div id=\"df-6984f684-1dc0-4fba-9b1e-26de07388395\">\n",
              "      <button class=\"colab-df-quickchart\" onclick=\"quickchart('df-6984f684-1dc0-4fba-9b1e-26de07388395')\"\n",
              "                title=\"Suggest charts\"\n",
              "                style=\"display:none;\">\n",
              "\n",
              "<svg xmlns=\"http://www.w3.org/2000/svg\" height=\"24px\"viewBox=\"0 0 24 24\"\n",
              "     width=\"24px\">\n",
              "    <g>\n",
              "        <path d=\"M19 3H5c-1.1 0-2 .9-2 2v14c0 1.1.9 2 2 2h14c1.1 0 2-.9 2-2V5c0-1.1-.9-2-2-2zM9 17H7v-7h2v7zm4 0h-2V7h2v10zm4 0h-2v-4h2v4z\"/>\n",
              "    </g>\n",
              "</svg>\n",
              "      </button>\n",
              "\n",
              "<style>\n",
              "  .colab-df-quickchart {\n",
              "      --bg-color: #E8F0FE;\n",
              "      --fill-color: #1967D2;\n",
              "      --hover-bg-color: #E2EBFA;\n",
              "      --hover-fill-color: #174EA6;\n",
              "      --disabled-fill-color: #AAA;\n",
              "      --disabled-bg-color: #DDD;\n",
              "  }\n",
              "\n",
              "  [theme=dark] .colab-df-quickchart {\n",
              "      --bg-color: #3B4455;\n",
              "      --fill-color: #D2E3FC;\n",
              "      --hover-bg-color: #434B5C;\n",
              "      --hover-fill-color: #FFFFFF;\n",
              "      --disabled-bg-color: #3B4455;\n",
              "      --disabled-fill-color: #666;\n",
              "  }\n",
              "\n",
              "  .colab-df-quickchart {\n",
              "    background-color: var(--bg-color);\n",
              "    border: none;\n",
              "    border-radius: 50%;\n",
              "    cursor: pointer;\n",
              "    display: none;\n",
              "    fill: var(--fill-color);\n",
              "    height: 32px;\n",
              "    padding: 0;\n",
              "    width: 32px;\n",
              "  }\n",
              "\n",
              "  .colab-df-quickchart:hover {\n",
              "    background-color: var(--hover-bg-color);\n",
              "    box-shadow: 0 1px 2px rgba(60, 64, 67, 0.3), 0 1px 3px 1px rgba(60, 64, 67, 0.15);\n",
              "    fill: var(--button-hover-fill-color);\n",
              "  }\n",
              "\n",
              "  .colab-df-quickchart-complete:disabled,\n",
              "  .colab-df-quickchart-complete:disabled:hover {\n",
              "    background-color: var(--disabled-bg-color);\n",
              "    fill: var(--disabled-fill-color);\n",
              "    box-shadow: none;\n",
              "  }\n",
              "\n",
              "  .colab-df-spinner {\n",
              "    border: 2px solid var(--fill-color);\n",
              "    border-color: transparent;\n",
              "    border-bottom-color: var(--fill-color);\n",
              "    animation:\n",
              "      spin 1s steps(1) infinite;\n",
              "  }\n",
              "\n",
              "  @keyframes spin {\n",
              "    0% {\n",
              "      border-color: transparent;\n",
              "      border-bottom-color: var(--fill-color);\n",
              "      border-left-color: var(--fill-color);\n",
              "    }\n",
              "    20% {\n",
              "      border-color: transparent;\n",
              "      border-left-color: var(--fill-color);\n",
              "      border-top-color: var(--fill-color);\n",
              "    }\n",
              "    30% {\n",
              "      border-color: transparent;\n",
              "      border-left-color: var(--fill-color);\n",
              "      border-top-color: var(--fill-color);\n",
              "      border-right-color: var(--fill-color);\n",
              "    }\n",
              "    40% {\n",
              "      border-color: transparent;\n",
              "      border-right-color: var(--fill-color);\n",
              "      border-top-color: var(--fill-color);\n",
              "    }\n",
              "    60% {\n",
              "      border-color: transparent;\n",
              "      border-right-color: var(--fill-color);\n",
              "    }\n",
              "    80% {\n",
              "      border-color: transparent;\n",
              "      border-right-color: var(--fill-color);\n",
              "      border-bottom-color: var(--fill-color);\n",
              "    }\n",
              "    90% {\n",
              "      border-color: transparent;\n",
              "      border-bottom-color: var(--fill-color);\n",
              "    }\n",
              "  }\n",
              "</style>\n",
              "\n",
              "      <script>\n",
              "        async function quickchart(key) {\n",
              "          const quickchartButtonEl =\n",
              "            document.querySelector('#' + key + ' button');\n",
              "          quickchartButtonEl.disabled = true;  // To prevent multiple clicks.\n",
              "          quickchartButtonEl.classList.add('colab-df-spinner');\n",
              "          try {\n",
              "            const charts = await google.colab.kernel.invokeFunction(\n",
              "                'suggestCharts', [key], {});\n",
              "          } catch (error) {\n",
              "            console.error('Error during call to suggestCharts:', error);\n",
              "          }\n",
              "          quickchartButtonEl.classList.remove('colab-df-spinner');\n",
              "          quickchartButtonEl.classList.add('colab-df-quickchart-complete');\n",
              "        }\n",
              "        (() => {\n",
              "          let quickchartButtonEl =\n",
              "            document.querySelector('#df-6984f684-1dc0-4fba-9b1e-26de07388395 button');\n",
              "          quickchartButtonEl.style.display =\n",
              "            google.colab.kernel.accessAllowed ? 'block' : 'none';\n",
              "        })();\n",
              "      </script>\n",
              "    </div>\n",
              "\n",
              "    </div>\n",
              "  </div>\n"
            ],
            "application/vnd.google.colaboratory.intrinsic+json": {
              "type": "dataframe",
              "variable_name": "df_train"
            }
          },
          "metadata": {},
          "execution_count": 13
        }
      ]
    },
    {
      "cell_type": "markdown",
      "source": [
        "Model Train"
      ],
      "metadata": {
        "id": "ct8CQaPmoI3r"
      }
    },
    {
      "cell_type": "code",
      "source": [
        "num_features = [col for col in df_train.columns if col.startswith(\"X_\")] + ['predict_date_offset']\n",
        "del_features = [\"영업일자_메뉴명\", \"start_date\", \"start_date_year\", \"predict_date\", \"predict_date_year\"]\n",
        "cat_features = [col for col in df_train.columns if col not in num_features and col not in del_features and col != 'target']\n"
      ],
      "metadata": {
        "id": "JXA7AqoNiArb"
      },
      "execution_count": 14,
      "outputs": []
    },
    {
      "cell_type": "code",
      "source": [
        "features = num_features + cat_features\n",
        "\n",
        "x_train, x_val, y_train, y_val = train_test_split(\n",
        "    df_train[features],\n",
        "    df_train[\"target\"],\n",
        "    test_size=0.2,\n",
        "    shuffle=True,\n",
        ")"
      ],
      "metadata": {
        "id": "F_ag9QDgoEUg"
      },
      "execution_count": 15,
      "outputs": []
    },
    {
      "cell_type": "code",
      "source": [
        "model = CatBoostRegressor()\n",
        "\n",
        "model.fit(\n",
        "    x_train, y_train,\n",
        "    eval_set=(x_val, y_val),\n",
        "    cat_features=cat_features,\n",
        "    use_best_model=True\n",
        ")"
      ],
      "metadata": {
        "colab": {
          "base_uri": "https://localhost:8080/"
        },
        "id": "3BWqpYI1oGxv",
        "outputId": "b613b66c-e3a3-4048-90a1-6e07040a93e5"
      },
      "execution_count": null,
      "outputs": [
        {
          "output_type": "stream",
          "name": "stdout",
          "text": [
            "Learning rate set to 0.136665\n",
            "0:\tlearn: 37.2762804\ttest: 36.6947175\tbest: 36.6947175 (0)\ttotal: 1.16s\tremaining: 19m 21s\n",
            "1:\tlearn: 34.8048909\ttest: 34.1819177\tbest: 34.1819177 (1)\ttotal: 2.24s\tremaining: 18m 39s\n",
            "2:\tlearn: 32.8050794\ttest: 32.1457053\tbest: 32.1457053 (2)\ttotal: 3.37s\tremaining: 18m 40s\n",
            "3:\tlearn: 31.0075778\ttest: 30.3599441\tbest: 30.3599441 (3)\ttotal: 4.93s\tremaining: 20m 27s\n",
            "4:\tlearn: 29.5186116\ttest: 28.8699805\tbest: 28.8699805 (4)\ttotal: 6.55s\tremaining: 21m 43s\n",
            "5:\tlearn: 28.3436038\ttest: 27.6821574\tbest: 27.6821574 (5)\ttotal: 7.61s\tremaining: 21m 1s\n",
            "6:\tlearn: 27.3555173\ttest: 26.6546679\tbest: 26.6546679 (6)\ttotal: 8.55s\tremaining: 20m 12s\n",
            "7:\tlearn: 26.5192145\ttest: 25.7635215\tbest: 25.7635215 (7)\ttotal: 9.4s\tremaining: 19m 25s\n",
            "8:\tlearn: 25.8333739\ttest: 25.0839078\tbest: 25.0839078 (8)\ttotal: 10.3s\tremaining: 18m 57s\n",
            "9:\tlearn: 25.2988281\ttest: 24.5426269\tbest: 24.5426269 (9)\ttotal: 11.2s\tremaining: 18m 27s\n",
            "10:\tlearn: 24.8256733\ttest: 24.0521986\tbest: 24.0521986 (10)\ttotal: 12s\tremaining: 17m 59s\n",
            "11:\tlearn: 24.4258442\ttest: 23.6568291\tbest: 23.6568291 (11)\ttotal: 13s\tremaining: 17m 49s\n",
            "12:\tlearn: 24.1100574\ttest: 23.3331879\tbest: 23.3331879 (12)\ttotal: 13.8s\tremaining: 17m 30s\n",
            "13:\tlearn: 23.8475167\ttest: 23.0707669\tbest: 23.0707669 (13)\ttotal: 14.7s\tremaining: 17m 15s\n",
            "14:\tlearn: 23.6112346\ttest: 22.8422042\tbest: 22.8422042 (14)\ttotal: 15.5s\tremaining: 17m\n",
            "15:\tlearn: 23.3990894\ttest: 22.6423846\tbest: 22.6423846 (15)\ttotal: 16.4s\tremaining: 16m 46s\n",
            "16:\tlearn: 23.2223288\ttest: 22.4571423\tbest: 22.4571423 (16)\ttotal: 17.5s\tremaining: 16m 49s\n",
            "17:\tlearn: 23.0478608\ttest: 22.2923792\tbest: 22.2923792 (17)\ttotal: 19.1s\tremaining: 17m 20s\n",
            "18:\tlearn: 22.9241816\ttest: 22.1822031\tbest: 22.1822031 (18)\ttotal: 20.6s\tremaining: 17m 42s\n",
            "19:\tlearn: 22.7659164\ttest: 22.0391027\tbest: 22.0391027 (19)\ttotal: 21.6s\tremaining: 17m 36s\n",
            "20:\tlearn: 22.6637119\ttest: 21.9375406\tbest: 21.9375406 (20)\ttotal: 22.6s\tremaining: 17m 32s\n",
            "21:\tlearn: 22.5728000\ttest: 21.8439063\tbest: 21.8439063 (21)\ttotal: 23.5s\tremaining: 17m 22s\n",
            "22:\tlearn: 22.4762036\ttest: 21.7457898\tbest: 21.7457898 (22)\ttotal: 24.5s\tremaining: 17m 20s\n",
            "23:\tlearn: 22.4011272\ttest: 21.6811800\tbest: 21.6811800 (23)\ttotal: 25.5s\tremaining: 17m 15s\n",
            "24:\tlearn: 22.2858115\ttest: 21.5593397\tbest: 21.5593397 (24)\ttotal: 26.5s\tremaining: 17m 13s\n"
          ]
        }
      ]
    },
    {
      "cell_type": "code",
      "source": [
        "y_pred = model.predict(x_val)\n",
        "\n",
        "rmse = np.sqrt(mean_squared_error(y_val, y_pred))\n",
        "print(f\"Validation RMSE: {rmse:.4f}\")"
      ],
      "metadata": {
        "id": "UVSagNBpoKtX"
      },
      "execution_count": null,
      "outputs": []
    },
    {
      "cell_type": "markdown",
      "source": [
        "Feature Importance"
      ],
      "metadata": {
        "id": "es3De2WeDKjt"
      }
    },
    {
      "cell_type": "code",
      "source": [
        "from catboost import Pool\n",
        "\n",
        "val_pool = Pool(\n",
        "    data=x_val,\n",
        "    label=y_val,\n",
        "    cat_features=cat_features\n",
        ")\n",
        "\n",
        "importances = model.get_feature_importance(data=val_pool, type='LossFunctionChange')\n",
        "\n",
        "fi_df = pd.DataFrame({\n",
        "    'feature': features,\n",
        "    'importance': importances\n",
        "}).sort_values('importance', ascending=False)\n",
        "\n",
        "print(\"===== Feature Importance =====\")\n",
        "print(fi_df)\n",
        "\n",
        "fi_df.to_csv(\"feature_importance.csv\", index=False, encoding=\"utf-8-sig\")\n",
        "print(\"Feature importance saved to feature_importance.csv\")"
      ],
      "metadata": {
        "id": "kVMirA0WDGor"
      },
      "execution_count": null,
      "outputs": []
    },
    {
      "cell_type": "markdown",
      "source": [
        "Scoring"
      ],
      "metadata": {
        "id": "wasdiS1qDOJL"
      }
    },
    {
      "cell_type": "code",
      "source": [
        "y_pred = model.predict(x_val)\n",
        "\n",
        "x_val[\"predict\"] = y_pred\n",
        "x_val[\"target\"] = y_val\n",
        "\n",
        "score = 0\n",
        "for store_name in list(x_val[\"store_name\"].unique()):\n",
        "    score_store = 0\n",
        "    df_store = x_val[x_val[\"store_name\"]==store_name].copy()\n",
        "\n",
        "    for menu_name in list(df_store[\"menu_name\"].unique()):\n",
        "        score_store_menu = 0\n",
        "        df_store_menu = df_store[df_store[\"menu_name\"]==menu_name].copy()\n",
        "        df_store_menu = df_store_menu[df_store_menu[\"target\"]!=0]\n",
        "\n",
        "        for i in range(len(df_store_menu)):\n",
        "            A = df_store_menu[\"target\"].iloc[i]\n",
        "            P = df_store_menu[\"predict\"].iloc[i]\n",
        "            score_store_menu += 2*abs(A-P)/(abs(A)+abs(P))\n",
        "\n",
        "\n",
        "        score_store += score_store_menu/len(df_store_menu)\n",
        "\n",
        "    score += score_store / len(list(df_store[\"menu_name\"].unique()))\n",
        "    if store_name in ['미라시아', '담하']:\n",
        "        score += score_store / len(list(df_store[\"menu_name\"].unique()))\n",
        "score = score / (len(list(x_val[\"store_name\"].unique()))+2)\n",
        "\n",
        "print(score)"
      ],
      "metadata": {
        "id": "0Mab3L-xDPD8"
      },
      "execution_count": null,
      "outputs": []
    },
    {
      "cell_type": "markdown",
      "source": [
        "Prediction"
      ],
      "metadata": {
        "id": "rnvwS9sY0vo0"
      }
    },
    {
      "cell_type": "code",
      "source": [
        "def make_expanded_test(df, test_prefix):\n",
        "    df = df.sort_values(['영업장명_메뉴명', '영업일자'])\n",
        "    df['영업일자'] = pd.to_datetime(df['영업일자'])\n",
        "\n",
        "    result = []\n",
        "\n",
        "    for name, group in df.groupby('영업장명_메뉴명'):\n",
        "        group = group.sort_values('영업일자')\n",
        "        sales = group['매출수량'].values\n",
        "        dates = group['영업일자'].values\n",
        "        store_name = group['영업장명'].iloc[0]\n",
        "        menu_name = group['메뉴명'].iloc[0]\n",
        "\n",
        "        start_date = dates[0]\n",
        "\n",
        "        for j in range(7):\n",
        "            predict_date = start_date + pd.Timedelta(days=28 + j)\n",
        "\n",
        "            result.append({\n",
        "                '영업장명_메뉴명': name,\n",
        "                '영업일자':f\"{test_prefix}+{j+1}일\",\n",
        "                'store_name': store_name,\n",
        "                'menu_name': menu_name,\n",
        "                'start_date': start_date,\n",
        "                **{f'X_{k}': sales[k] for k in range(28)},\n",
        "                'predict_date': predict_date,\n",
        "                'predict_date_offset': j + 1\n",
        "            })\n",
        "\n",
        "    df_result = pd.DataFrame(result)\n",
        "\n",
        "\n",
        "    df_result.insert(df_result.columns.get_loc('start_date') + 1, 'start_date_year', df_result['start_date'].dt.year)\n",
        "    df_result.insert(df_result.columns.get_loc('start_date') + 2, 'start_date_month', df_result['start_date'].dt.month)\n",
        "    df_result.insert(df_result.columns.get_loc('start_date') + 3, 'start_date_day', df_result['start_date'].dt.day)\n",
        "    df_result.insert(df_result.columns.get_loc('start_date') + 4, 'start_date_weekday', df_result['start_date'].dt.day_name())\n",
        "    df_result.insert(df_result.columns.get_loc('start_date') + 5, 'start_date_holiday',\n",
        "                     df_result['start_date'].dt.date.isin(holidays.KR(years=[2023, 2024, 2025])).astype(int))\n",
        "    df_result.insert(df_result.columns.get_loc('start_date') + 6, 'start_date_quarter', df_result['start_date'].dt.quarter)\n",
        "\n",
        "\n",
        "    df_result.insert(df_result.columns.get_loc('predict_date') + 1, 'predict_date_year', df_result['predict_date'].dt.year)\n",
        "    df_result.insert(df_result.columns.get_loc('predict_date') + 2, 'predict_date_month', df_result['predict_date'].dt.month)\n",
        "    df_result.insert(df_result.columns.get_loc('predict_date') + 3, 'predict_date_day', df_result['predict_date'].dt.day)\n",
        "    df_result.insert(df_result.columns.get_loc('predict_date') + 4, 'predict_date_weekday', df_result['predict_date'].dt.day_name())\n",
        "    df_result.insert(df_result.columns.get_loc('predict_date') + 5, 'predict_date_holiday',\n",
        "                     df_result['predict_date'].dt.date.isin(holidays.KR(years=[2023, 2024, 2025])).astype(int))\n",
        "    df_result.insert(df_result.columns.get_loc('predict_date') + 6, 'predict_date_quarter', df_result['predict_date'].dt.quarter)\n",
        "\n",
        "    return df_result"
      ],
      "metadata": {
        "id": "ilbxeJKU0T9P"
      },
      "execution_count": null,
      "outputs": []
    },
    {
      "cell_type": "code",
      "source": [
        "df_test_list = []\n",
        "\n",
        "test_files = sorted(glob.glob('/content/data/TEST_*.csv'))\n",
        "\n",
        "for path in test_files:\n",
        "    test_data = pd.read_csv(path, encoding='utf-8-sig')\n",
        "\n",
        "    test_data = test_data.sort_values(['영업장명_메뉴명', '영업일자'])\n",
        "    test_data['영업일자'] = pd.to_datetime(test_data['영업일자'])\n",
        "\n",
        "    test_data['요일'] = test_data['영업일자'].dt.day_name()\n",
        "\n",
        "    test_data[['영업장명', '메뉴명']] = test_data['영업장명_메뉴명'].str.split('_', n=1, expand=True)\n",
        "\n",
        "    filename = os.path.basename(path)\n",
        "    test_prefix = re.search(r'(TEST_\\d+)', filename).group(1)\n",
        "\n",
        "    df_temp = make_expanded_test(test_data.copy(), test_prefix)\n",
        "\n",
        "    df_test_list.append(df_temp)\n",
        "\n",
        "df_test = pd.concat(df_test_list, ignore_index=True)"
      ],
      "metadata": {
        "id": "I4-PhE7O07Xx"
      },
      "execution_count": null,
      "outputs": []
    },
    {
      "cell_type": "code",
      "source": [
        "x_test = df_test[features]\n",
        "y_test = model.predict(x_test)"
      ],
      "metadata": {
        "id": "9slxoGkN3GZW"
      },
      "execution_count": null,
      "outputs": []
    },
    {
      "cell_type": "code",
      "source": [
        "df_test['매출수량'] = y_test"
      ],
      "metadata": {
        "id": "NJDtaToi7L9A"
      },
      "execution_count": null,
      "outputs": []
    },
    {
      "cell_type": "code",
      "source": [
        "def convert_to_submission_format(pred_df: pd.DataFrame, sample_submission: pd.DataFrame):\n",
        "    # (영업일자, 메뉴) → 매출수량 딕셔너리로 변환\n",
        "    pred_dict = dict(zip(\n",
        "        zip(pred_df['영업일자'], pred_df['영업장명_메뉴명']),\n",
        "        pred_df['매출수량']\n",
        "    ))\n",
        "\n",
        "    final_df = sample_submission.copy()\n",
        "\n",
        "    for col in final_df.columns[1:]:\n",
        "      final_df[col] = final_df[col].astype(float)\n",
        "\n",
        "    for row_idx in final_df.index:\n",
        "        date = final_df.loc[row_idx, '영업일자']\n",
        "        for col in final_df.columns[1:]:\n",
        "            final_df.loc[row_idx, col] = max(0, pred_dict.get((date, col), 0))\n",
        "\n",
        "    return final_df"
      ],
      "metadata": {
        "id": "74hNlFc67NQ4"
      },
      "execution_count": null,
      "outputs": []
    },
    {
      "cell_type": "code",
      "source": [
        "sample_submission = pd.read_csv('/content/data/sample_submission.csv')\n",
        "submission = convert_to_submission_format(df_test, sample_submission)\n",
        "submission.to_csv('/content/data/submission.csv', index=False, encoding='utf-8-sig')"
      ],
      "metadata": {
        "id": "WW_skDEU7Pm_"
      },
      "execution_count": null,
      "outputs": []
    },
    {
      "cell_type": "code",
      "source": [],
      "metadata": {
        "id": "KUGzuAjN7TZ9"
      },
      "execution_count": null,
      "outputs": []
    }
  ]
}